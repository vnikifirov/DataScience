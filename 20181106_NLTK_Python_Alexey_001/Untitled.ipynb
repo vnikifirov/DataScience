{
 "cells": [
  {
   "cell_type": "code",
   "execution_count": null,
   "metadata": {},
   "outputs": [],
   "source": [
    "#! /usr/bin/env python\n",
    "# -*- coding: utf-8 -*-\n",
    "import os.path\n",
    "from nltk import sent_tokenize, word_tokenize, pos_tag\n",
    "\n",
    "# fix it and add main() func\n",
    "# fix path and cheking the way to save file\n",
    "# if path is not specify, nltk will download files by automate mode in default folder\n",
    "\n",
    "\n"
   ]
  },
  {
   "cell_type": "code",
   "execution_count": null,
   "metadata": {},
   "outputs": [],
   "source": [
    "# how can I looking for standart default folder for nltk\n",
    "def setup(path = os.path.abspath(input(\"Enter path to download nltk,or press enter and path to folder will be default: \"))):\n",
    "    try:\n",
    "        os.makedirs(path)\n",
    "    except OSError:\n",
    "        if not os.path.isfile(path):\n",
    "            print(\"nltk not exist and will be download\")\n",
    "            raise\n",
    "\n",
    "            nltk.download('nltk')\n",
    "     \n",
    "setup(path)"
   ]
  },
  {
   "cell_type": "code",
   "execution_count": null,
   "metadata": {},
   "outputs": [],
   "source": [
    "# if module file is exist -> break\n",
    "# else:\n",
    "#    input() or default path\n",
    "\n",
    "# if len of path == 0, then we need to download nltk and other requiremtns?\n",
    "\n",
    "def find(name, path):\n",
    "    for root, dirs, files in scandir.walk(path):\n",
    "        if root.endswith(name):\n",
    "            return root"
   ]
  },
  {
   "cell_type": "code",
   "execution_count": null,
   "metadata": {},
   "outputs": [],
   "source": [
    "def find_nltk_data():\n",
    "    start = time.time()\n",
    "    path_to_nltk_data = find('nltk_data', '/')\n",
    "    print >> sys.stderr, 'Finding nltk_data took', time.time() - start\n",
    "    print >> sys.stderr,  'nltk_data at', path_to_nltk_data\n",
    "    with open('where_is_nltk_data.txt', 'w') as fout:\n",
    "        fout.write(path_to_nltk_data)\n",
    "    return path_to_nltk_data"
   ]
  },
  {
   "cell_type": "code",
   "execution_count": null,
   "metadata": {},
   "outputs": [],
   "source": [
    "def magically_find_nltk_data():\n",
    "    if os.path.exists('where_is_nltk_data.txt'):\n",
    "        with open('where_is_nltk_data.txt') as fin:\n",
    "            path_to_nltk_data = fin.read().strip()\n",
    "        if os.path.exists(path_to_nltk_data):\n",
    "            nltk.data.path.append(path_to_nltk_data)\n",
    "        else:\n",
    "            nltk.data.path.append(find_nltk_data())\n",
    "    else:\n",
    "        path_to_nltk_data  = find_nltk_data()\n",
    "        nltk.data.path.append(path_to_nltk_data)\n",
    "\n",
    "\n",
    "    magically_find_nltk_data()\n",
    "    print nltk.pos_tag('this is a foo bar'.split())\n"
   ]
  },
  {
   "cell_type": "code",
   "execution_count": null,
   "metadata": {},
   "outputs": [],
   "source": []
  }
 ],
 "metadata": {
  "kernelspec": {
   "display_name": "Python 3",
   "language": "python",
   "name": "python3"
  },
  "language_info": {
   "codemirror_mode": {
    "name": "ipython",
    "version": 3
   },
   "file_extension": ".py",
   "mimetype": "text/x-python",
   "name": "python",
   "nbconvert_exporter": "python",
   "pygments_lexer": "ipython3",
   "version": "3.7.0"
  }
 },
 "nbformat": 4,
 "nbformat_minor": 2
}
