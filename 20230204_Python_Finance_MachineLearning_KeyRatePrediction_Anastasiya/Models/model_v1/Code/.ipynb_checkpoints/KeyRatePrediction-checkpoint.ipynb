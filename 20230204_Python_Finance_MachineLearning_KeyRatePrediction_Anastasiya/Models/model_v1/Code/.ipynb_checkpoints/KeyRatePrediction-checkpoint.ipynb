{
 "cells": [
  {
   "cell_type": "code",
   "execution_count": 1,
   "metadata": {},
   "outputs": [],
   "source": [
    "# Include library\n",
    "\n",
    "# Scikit-learn is an open source machine learning library that supports supervised and unsupervised learning. \n",
    "# or SIMPLE to work with ML model\n",
    "from sklearn import ensemble, model_selection, metrics\n",
    "from sklearn.metrics import mean_squared_error\n",
    "\n",
    "# To work with arrays\n",
    "import numpy as np\n",
    "\n",
    "import pandas as pd\n",
    "\n",
    "# XGBoost, which stands for Extreme Gradient Boosting, \n",
    "# is a scalable, distributed gradient-boosted decision tree (GBDT) \n",
    "# machine learning library. \n",
    "# It provides parallel tree boosting and is the leading machine learning library for regression,\n",
    "# classification, and ranking problems.\n",
    "# or SIMPLE to work with ML model\n",
    "import xgboost as xgb\n",
    "\n",
    "# For data visualization\n",
    "import matplotlib.pyplot as plt\n",
    "\\\n",
    "import os "
   ]
  },
  {
   "cell_type": "code",
   "execution_count": 2,
   "metadata": {},
   "outputs": [],
   "source": [
    "current_directory = os.getcwd()\n",
    "\n",
    "img_mse = \"\"\n",
    "img_rmse = \"\""
   ]
  },
  {
   "cell_type": "code",
   "execution_count": 3,
   "metadata": {},
   "outputs": [
    {
     "ename": "SyntaxError",
     "evalue": "invalid syntax (1177935895.py, line 3)",
     "output_type": "error",
     "traceback": [
      "\u001b[0;36m  Input \u001b[0;32mIn [3]\u001b[0;36m\u001b[0m\n\u001b[0;31m    <img src=\"image.png\" height=50>\u001b[0m\n\u001b[0m    ^\u001b[0m\n\u001b[0;31mSyntaxError\u001b[0m\u001b[0;31m:\u001b[0m invalid syntax\n"
     ]
    }
   ],
   "source": [
    "#%pylab inline\n",
    "%%HTML\n",
    "<img src=\"image.png\" height=50> "
   ]
  },
  {
   "cell_type": "code",
   "execution_count": 5,
   "metadata": {},
   "outputs": [],
   "source": [
    "# Note: Can be automated and be exported from web site by written special service to get done web scraping\n",
    "dataset = pd.read_csv('full_dataset.csv')"
   ]
  },
  {
   "cell_type": "code",
   "execution_count": 6,
   "metadata": {},
   "outputs": [
    {
     "data": {
      "text/plain": [
       "<AxesSubplot:xlabel='date'>"
      ]
     },
     "execution_count": 6,
     "metadata": {},
     "output_type": "execute_result"
    },
    {
     "data": {
      "image/png": "[encoded data removed]",
      "text/plain": [
       "<Figure size 864x216 with 1 Axes>"
      ]
     },
     "metadata": {
      "needs_background": "light"
     },
     "output_type": "display_data"
    }
   ],
   "source": [
    "# To draw plot\n",
    "fig, ax = plt.subplots(figsize=(12,3))\n",
    "dataset.set_index('date')['res_res'].plot(ax=ax)"
   ]
  },
  {
   "cell_type": "code",
   "execution_count": 7,
   "metadata": {},
   "outputs": [
    {
     "data": {
      "text/html": [
       "<div>\n",
       "<style scoped>\n",
       "    .dataframe tbody tr th:only-of-type {\n",
       "        vertical-align: middle;\n",
       "    }\n",
       "\n",
       "    .dataframe tbody tr th {\n",
       "        vertical-align: top;\n",
       "    }\n",
       "\n",
       "    .dataframe thead th {\n",
       "        text-align: right;\n",
       "    }\n",
       "</style>\n",
       "<table border=\"1\" class=\"dataframe\">\n",
       "  <thead>\n",
       "    <tr style=\"text-align: right;\">\n",
       "      <th></th>\n",
       "      <th>date</th>\n",
       "      <th>rate</th>\n",
       "      <th>eur_rub</th>\n",
       "      <th>jpy_rub</th>\n",
       "      <th>idl_vol</th>\n",
       "      <th>bas_dep</th>\n",
       "      <th>req_res</th>\n",
       "      <th>act_bal</th>\n",
       "      <th>org_num</th>\n",
       "      <th>rep_vol</th>\n",
       "      <th>sal_vol</th>\n",
       "      <th>res_gol</th>\n",
       "      <th>kop_dep</th>\n",
       "      <th>res_res</th>\n",
       "    </tr>\n",
       "  </thead>\n",
       "  <tbody>\n",
       "    <tr>\n",
       "      <th>0</th>\n",
       "      <td>2013-12-20</td>\n",
       "      <td>5.50</td>\n",
       "      <td>45.0628</td>\n",
       "      <td>31.7234</td>\n",
       "      <td>355.70</td>\n",
       "      <td>34523683.0</td>\n",
       "      <td>402.3</td>\n",
       "      <td>1242.059677</td>\n",
       "      <td>926.0</td>\n",
       "      <td>2719845.0</td>\n",
       "      <td>-581.8</td>\n",
       "      <td>40640.0</td>\n",
       "      <td>104748.56</td>\n",
       "      <td>515590.0</td>\n",
       "    </tr>\n",
       "    <tr>\n",
       "      <th>1</th>\n",
       "      <td>2013-12-25</td>\n",
       "      <td>5.50</td>\n",
       "      <td>44.6520</td>\n",
       "      <td>31.3193</td>\n",
       "      <td>206.08</td>\n",
       "      <td>34523683.0</td>\n",
       "      <td>402.3</td>\n",
       "      <td>1242.059677</td>\n",
       "      <td>926.0</td>\n",
       "      <td>2719845.0</td>\n",
       "      <td>-1416.8</td>\n",
       "      <td>40640.0</td>\n",
       "      <td>97507.40</td>\n",
       "      <td>515590.0</td>\n",
       "    </tr>\n",
       "    <tr>\n",
       "      <th>2</th>\n",
       "      <td>2014-01-10</td>\n",
       "      <td>5.50</td>\n",
       "      <td>45.0672</td>\n",
       "      <td>31.6060</td>\n",
       "      <td>196.31</td>\n",
       "      <td>35277417.0</td>\n",
       "      <td>404.8</td>\n",
       "      <td>1067.077419</td>\n",
       "      <td>919.0</td>\n",
       "      <td>3139666.0</td>\n",
       "      <td>-793.0</td>\n",
       "      <td>39990.0</td>\n",
       "      <td>249552.32</td>\n",
       "      <td>509595.0</td>\n",
       "    </tr>\n",
       "    <tr>\n",
       "      <th>3</th>\n",
       "      <td>2014-01-15</td>\n",
       "      <td>5.50</td>\n",
       "      <td>45.4139</td>\n",
       "      <td>32.1410</td>\n",
       "      <td>207.05</td>\n",
       "      <td>35277417.0</td>\n",
       "      <td>404.8</td>\n",
       "      <td>1067.077419</td>\n",
       "      <td>919.0</td>\n",
       "      <td>3139666.0</td>\n",
       "      <td>-89.1</td>\n",
       "      <td>39990.0</td>\n",
       "      <td>136797.77</td>\n",
       "      <td>509595.0</td>\n",
       "    </tr>\n",
       "    <tr>\n",
       "      <th>4</th>\n",
       "      <td>2014-01-28</td>\n",
       "      <td>5.50</td>\n",
       "      <td>47.4962</td>\n",
       "      <td>33.8248</td>\n",
       "      <td>175.63</td>\n",
       "      <td>35277417.0</td>\n",
       "      <td>404.8</td>\n",
       "      <td>1067.077419</td>\n",
       "      <td>919.0</td>\n",
       "      <td>3139666.0</td>\n",
       "      <td>-287.6</td>\n",
       "      <td>39990.0</td>\n",
       "      <td>114920.59</td>\n",
       "      <td>509595.0</td>\n",
       "    </tr>\n",
       "    <tr>\n",
       "      <th>...</th>\n",
       "      <td>...</td>\n",
       "      <td>...</td>\n",
       "      <td>...</td>\n",
       "      <td>...</td>\n",
       "      <td>...</td>\n",
       "      <td>...</td>\n",
       "      <td>...</td>\n",
       "      <td>...</td>\n",
       "      <td>...</td>\n",
       "      <td>...</td>\n",
       "      <td>...</td>\n",
       "      <td>...</td>\n",
       "      <td>...</td>\n",
       "      <td>...</td>\n",
       "    </tr>\n",
       "    <tr>\n",
       "      <th>291</th>\n",
       "      <td>2020-07-15</td>\n",
       "      <td>4.50</td>\n",
       "      <td>80.6230</td>\n",
       "      <td>66.2977</td>\n",
       "      <td>82.70</td>\n",
       "      <td>67667780.0</td>\n",
       "      <td>646.7</td>\n",
       "      <td>2589.600000</td>\n",
       "      <td>424.0</td>\n",
       "      <td>5105.0</td>\n",
       "      <td>-266.9</td>\n",
       "      <td>130790.0</td>\n",
       "      <td>1439472.27</td>\n",
       "      <td>568872.0</td>\n",
       "    </tr>\n",
       "    <tr>\n",
       "      <th>292</th>\n",
       "      <td>2020-07-28</td>\n",
       "      <td>4.25</td>\n",
       "      <td>83.7759</td>\n",
       "      <td>67.8692</td>\n",
       "      <td>216.56</td>\n",
       "      <td>67667780.0</td>\n",
       "      <td>646.7</td>\n",
       "      <td>2589.600000</td>\n",
       "      <td>424.0</td>\n",
       "      <td>5105.0</td>\n",
       "      <td>238.2</td>\n",
       "      <td>130790.0</td>\n",
       "      <td>1570877.45</td>\n",
       "      <td>568872.0</td>\n",
       "    </tr>\n",
       "    <tr>\n",
       "      <th>293</th>\n",
       "      <td>2020-08-05</td>\n",
       "      <td>4.25</td>\n",
       "      <td>86.5011</td>\n",
       "      <td>69.2498</td>\n",
       "      <td>342.65</td>\n",
       "      <td>68676951.0</td>\n",
       "      <td>659.2</td>\n",
       "      <td>2631.700000</td>\n",
       "      <td>419.0</td>\n",
       "      <td>5124.0</td>\n",
       "      <td>1056.4</td>\n",
       "      <td>144322.0</td>\n",
       "      <td>2756395.28</td>\n",
       "      <td>591753.0</td>\n",
       "    </tr>\n",
       "    <tr>\n",
       "      <th>294</th>\n",
       "      <td>2020-08-20</td>\n",
       "      <td>4.25</td>\n",
       "      <td>87.4037</td>\n",
       "      <td>69.4441</td>\n",
       "      <td>50.91</td>\n",
       "      <td>68676951.0</td>\n",
       "      <td>659.2</td>\n",
       "      <td>2631.700000</td>\n",
       "      <td>419.0</td>\n",
       "      <td>5124.0</td>\n",
       "      <td>133.4</td>\n",
       "      <td>144322.0</td>\n",
       "      <td>1806529.19</td>\n",
       "      <td>591753.0</td>\n",
       "    </tr>\n",
       "    <tr>\n",
       "      <th>295</th>\n",
       "      <td>2020-08-25</td>\n",
       "      <td>4.25</td>\n",
       "      <td>87.9030</td>\n",
       "      <td>70.3288</td>\n",
       "      <td>177.42</td>\n",
       "      <td>68676951.0</td>\n",
       "      <td>659.2</td>\n",
       "      <td>2631.700000</td>\n",
       "      <td>419.0</td>\n",
       "      <td>5124.0</td>\n",
       "      <td>144.9</td>\n",
       "      <td>144322.0</td>\n",
       "      <td>1817985.90</td>\n",
       "      <td>591753.0</td>\n",
       "    </tr>\n",
       "  </tbody>\n",
       "</table>\n",
       "<p>296 rows × 14 columns</p>\n",
       "</div>"
      ],
      "text/plain": [
       "           date  rate  eur_rub  jpy_rub  idl_vol     bas_dep  req_res  \\\n",
       "0    2013-12-20  5.50  45.0628  31.7234   355.70  34523683.0    402.3   \n",
       "1    2013-12-25  5.50  44.6520  31.3193   206.08  34523683.0    402.3   \n",
       "2    2014-01-10  5.50  45.0672  31.6060   196.31  35277417.0    404.8   \n",
       "3    2014-01-15  5.50  45.4139  32.1410   207.05  35277417.0    404.8   \n",
       "4    2014-01-28  5.50  47.4962  33.8248   175.63  35277417.0    404.8   \n",
       "..          ...   ...      ...      ...      ...         ...      ...   \n",
       "291  2020-07-15  4.50  80.6230  66.2977    82.70  67667780.0    646.7   \n",
       "292  2020-07-28  4.25  83.7759  67.8692   216.56  67667780.0    646.7   \n",
       "293  2020-08-05  4.25  86.5011  69.2498   342.65  68676951.0    659.2   \n",
       "294  2020-08-20  4.25  87.4037  69.4441    50.91  68676951.0    659.2   \n",
       "295  2020-08-25  4.25  87.9030  70.3288   177.42  68676951.0    659.2   \n",
       "\n",
       "         act_bal  org_num    rep_vol  sal_vol   res_gol     kop_dep   res_res  \n",
       "0    1242.059677    926.0  2719845.0   -581.8   40640.0   104748.56  515590.0  \n",
       "1    1242.059677    926.0  2719845.0  -1416.8   40640.0    97507.40  515590.0  \n",
       "2    1067.077419    919.0  3139666.0   -793.0   39990.0   249552.32  509595.0  \n",
       "3    1067.077419    919.0  3139666.0    -89.1   39990.0   136797.77  509595.0  \n",
       "4    1067.077419    919.0  3139666.0   -287.6   39990.0   114920.59  509595.0  \n",
       "..           ...      ...        ...      ...       ...         ...       ...  \n",
       "291  2589.600000    424.0     5105.0   -266.9  130790.0  1439472.27  568872.0  \n",
       "292  2589.600000    424.0     5105.0    238.2  130790.0  1570877.45  568872.0  \n",
       "293  2631.700000    419.0     5124.0   1056.4  144322.0  2756395.28  591753.0  \n",
       "294  2631.700000    419.0     5124.0    133.4  144322.0  1806529.19  591753.0  \n",
       "295  2631.700000    419.0     5124.0    144.9  144322.0  1817985.90  591753.0  \n",
       "\n",
       "[296 rows x 14 columns]"
      ]
     },
     "execution_count": 7,
     "metadata": {},
     "output_type": "execute_result"
    }
   ],
   "source": [
    "# display dataset\n",
    "dataset"
   ]
  },
  {
   "cell_type": "markdown",
   "metadata": {},
   "source": [
    "Целевая переменная - ключевая ставка ЦБ, обучающая выборка - всё, кроме даты и ключевой ставки"
   ]
  },
  {
   "cell_type": "code",
   "execution_count": 8,
   "metadata": {},
   "outputs": [],
   "source": [
    "# Select Y as rate from dataset\n",
    "Y_axis = dataset['rate']"
   ]
  },
  {
   "cell_type": "code",
   "execution_count": 9,
   "metadata": {},
   "outputs": [],
   "source": [
    "# Select X as time from dataset. : first rows and 2: is columns \n",
    "X_axis = dataset.iloc[:, 2:]"
   ]
  },
  {
   "cell_type": "code",
   "execution_count": 14,
   "metadata": {},
   "outputs": [
    {
     "data": {
      "text/html": [
       "<div>\n",
       "<style scoped>\n",
       "    .dataframe tbody tr th:only-of-type {\n",
       "        vertical-align: middle;\n",
       "    }\n",
       "\n",
       "    .dataframe tbody tr th {\n",
       "        vertical-align: top;\n",
       "    }\n",
       "\n",
       "    .dataframe thead th {\n",
       "        text-align: right;\n",
       "    }\n",
       "</style>\n",
       "<table border=\"1\" class=\"dataframe\">\n",
       "  <thead>\n",
       "    <tr style=\"text-align: right;\">\n",
       "      <th></th>\n",
       "      <th>eur_rub</th>\n",
       "      <th>jpy_rub</th>\n",
       "      <th>idl_vol</th>\n",
       "      <th>bas_dep</th>\n",
       "      <th>req_res</th>\n",
       "      <th>act_bal</th>\n",
       "      <th>org_num</th>\n",
       "      <th>rep_vol</th>\n",
       "      <th>sal_vol</th>\n",
       "      <th>res_gol</th>\n",
       "      <th>kop_dep</th>\n",
       "      <th>res_res</th>\n",
       "    </tr>\n",
       "  </thead>\n",
       "  <tbody>\n",
       "    <tr>\n",
       "      <th>0</th>\n",
       "      <td>45.0628</td>\n",
       "      <td>31.7234</td>\n",
       "      <td>355.70</td>\n",
       "      <td>34523683.0</td>\n",
       "      <td>402.3</td>\n",
       "      <td>1242.059677</td>\n",
       "      <td>926.0</td>\n",
       "      <td>2719845.0</td>\n",
       "      <td>-581.8</td>\n",
       "      <td>40640.0</td>\n",
       "      <td>104748.56</td>\n",
       "      <td>515590.0</td>\n",
       "    </tr>\n",
       "    <tr>\n",
       "      <th>1</th>\n",
       "      <td>44.6520</td>\n",
       "      <td>31.3193</td>\n",
       "      <td>206.08</td>\n",
       "      <td>34523683.0</td>\n",
       "      <td>402.3</td>\n",
       "      <td>1242.059677</td>\n",
       "      <td>926.0</td>\n",
       "      <td>2719845.0</td>\n",
       "      <td>-1416.8</td>\n",
       "      <td>40640.0</td>\n",
       "      <td>97507.40</td>\n",
       "      <td>515590.0</td>\n",
       "    </tr>\n",
       "    <tr>\n",
       "      <th>2</th>\n",
       "      <td>45.0672</td>\n",
       "      <td>31.6060</td>\n",
       "      <td>196.31</td>\n",
       "      <td>35277417.0</td>\n",
       "      <td>404.8</td>\n",
       "      <td>1067.077419</td>\n",
       "      <td>919.0</td>\n",
       "      <td>3139666.0</td>\n",
       "      <td>-793.0</td>\n",
       "      <td>39990.0</td>\n",
       "      <td>249552.32</td>\n",
       "      <td>509595.0</td>\n",
       "    </tr>\n",
       "    <tr>\n",
       "      <th>3</th>\n",
       "      <td>45.4139</td>\n",
       "      <td>32.1410</td>\n",
       "      <td>207.05</td>\n",
       "      <td>35277417.0</td>\n",
       "      <td>404.8</td>\n",
       "      <td>1067.077419</td>\n",
       "      <td>919.0</td>\n",
       "      <td>3139666.0</td>\n",
       "      <td>-89.1</td>\n",
       "      <td>39990.0</td>\n",
       "      <td>136797.77</td>\n",
       "      <td>509595.0</td>\n",
       "    </tr>\n",
       "    <tr>\n",
       "      <th>4</th>\n",
       "      <td>47.4962</td>\n",
       "      <td>33.8248</td>\n",
       "      <td>175.63</td>\n",
       "      <td>35277417.0</td>\n",
       "      <td>404.8</td>\n",
       "      <td>1067.077419</td>\n",
       "      <td>919.0</td>\n",
       "      <td>3139666.0</td>\n",
       "      <td>-287.6</td>\n",
       "      <td>39990.0</td>\n",
       "      <td>114920.59</td>\n",
       "      <td>509595.0</td>\n",
       "    </tr>\n",
       "    <tr>\n",
       "      <th>...</th>\n",
       "      <td>...</td>\n",
       "      <td>...</td>\n",
       "      <td>...</td>\n",
       "      <td>...</td>\n",
       "      <td>...</td>\n",
       "      <td>...</td>\n",
       "      <td>...</td>\n",
       "      <td>...</td>\n",
       "      <td>...</td>\n",
       "      <td>...</td>\n",
       "      <td>...</td>\n",
       "      <td>...</td>\n",
       "    </tr>\n",
       "    <tr>\n",
       "      <th>291</th>\n",
       "      <td>80.6230</td>\n",
       "      <td>66.2977</td>\n",
       "      <td>82.70</td>\n",
       "      <td>67667780.0</td>\n",
       "      <td>646.7</td>\n",
       "      <td>2589.600000</td>\n",
       "      <td>424.0</td>\n",
       "      <td>5105.0</td>\n",
       "      <td>-266.9</td>\n",
       "      <td>130790.0</td>\n",
       "      <td>1439472.27</td>\n",
       "      <td>568872.0</td>\n",
       "    </tr>\n",
       "    <tr>\n",
       "      <th>292</th>\n",
       "      <td>83.7759</td>\n",
       "      <td>67.8692</td>\n",
       "      <td>216.56</td>\n",
       "      <td>67667780.0</td>\n",
       "      <td>646.7</td>\n",
       "      <td>2589.600000</td>\n",
       "      <td>424.0</td>\n",
       "      <td>5105.0</td>\n",
       "      <td>238.2</td>\n",
       "      <td>130790.0</td>\n",
       "      <td>1570877.45</td>\n",
       "      <td>568872.0</td>\n",
       "    </tr>\n",
       "    <tr>\n",
       "      <th>293</th>\n",
       "      <td>86.5011</td>\n",
       "      <td>69.2498</td>\n",
       "      <td>342.65</td>\n",
       "      <td>68676951.0</td>\n",
       "      <td>659.2</td>\n",
       "      <td>2631.700000</td>\n",
       "      <td>419.0</td>\n",
       "      <td>5124.0</td>\n",
       "      <td>1056.4</td>\n",
       "      <td>144322.0</td>\n",
       "      <td>2756395.28</td>\n",
       "      <td>591753.0</td>\n",
       "    </tr>\n",
       "    <tr>\n",
       "      <th>294</th>\n",
       "      <td>87.4037</td>\n",
       "      <td>69.4441</td>\n",
       "      <td>50.91</td>\n",
       "      <td>68676951.0</td>\n",
       "      <td>659.2</td>\n",
       "      <td>2631.700000</td>\n",
       "      <td>419.0</td>\n",
       "      <td>5124.0</td>\n",
       "      <td>133.4</td>\n",
       "      <td>144322.0</td>\n",
       "      <td>1806529.19</td>\n",
       "      <td>591753.0</td>\n",
       "    </tr>\n",
       "    <tr>\n",
       "      <th>295</th>\n",
       "      <td>87.9030</td>\n",
       "      <td>70.3288</td>\n",
       "      <td>177.42</td>\n",
       "      <td>68676951.0</td>\n",
       "      <td>659.2</td>\n",
       "      <td>2631.700000</td>\n",
       "      <td>419.0</td>\n",
       "      <td>5124.0</td>\n",
       "      <td>144.9</td>\n",
       "      <td>144322.0</td>\n",
       "      <td>1817985.90</td>\n",
       "      <td>591753.0</td>\n",
       "    </tr>\n",
       "  </tbody>\n",
       "</table>\n",
       "<p>296 rows × 12 columns</p>\n",
       "</div>"
      ],
      "text/plain": [
       "     eur_rub  jpy_rub  idl_vol     bas_dep  req_res      act_bal  org_num  \\\n",
       "0    45.0628  31.7234   355.70  34523683.0    402.3  1242.059677    926.0   \n",
       "1    44.6520  31.3193   206.08  34523683.0    402.3  1242.059677    926.0   \n",
       "2    45.0672  31.6060   196.31  35277417.0    404.8  1067.077419    919.0   \n",
       "3    45.4139  32.1410   207.05  35277417.0    404.8  1067.077419    919.0   \n",
       "4    47.4962  33.8248   175.63  35277417.0    404.8  1067.077419    919.0   \n",
       "..       ...      ...      ...         ...      ...          ...      ...   \n",
       "291  80.6230  66.2977    82.70  67667780.0    646.7  2589.600000    424.0   \n",
       "292  83.7759  67.8692   216.56  67667780.0    646.7  2589.600000    424.0   \n",
       "293  86.5011  69.2498   342.65  68676951.0    659.2  2631.700000    419.0   \n",
       "294  87.4037  69.4441    50.91  68676951.0    659.2  2631.700000    419.0   \n",
       "295  87.9030  70.3288   177.42  68676951.0    659.2  2631.700000    419.0   \n",
       "\n",
       "       rep_vol  sal_vol   res_gol     kop_dep   res_res  \n",
       "0    2719845.0   -581.8   40640.0   104748.56  515590.0  \n",
       "1    2719845.0  -1416.8   40640.0    97507.40  515590.0  \n",
       "2    3139666.0   -793.0   39990.0   249552.32  509595.0  \n",
       "3    3139666.0    -89.1   39990.0   136797.77  509595.0  \n",
       "4    3139666.0   -287.6   39990.0   114920.59  509595.0  \n",
       "..         ...      ...       ...         ...       ...  \n",
       "291     5105.0   -266.9  130790.0  1439472.27  568872.0  \n",
       "292     5105.0    238.2  130790.0  1570877.45  568872.0  \n",
       "293     5124.0   1056.4  144322.0  2756395.28  591753.0  \n",
       "294     5124.0    133.4  144322.0  1806529.19  591753.0  \n",
       "295     5124.0    144.9  144322.0  1817985.90  591753.0  \n",
       "\n",
       "[296 rows x 12 columns]"
      ]
     },
     "execution_count": 14,
     "metadata": {},
     "output_type": "execute_result"
    }
   ],
   "source": [
    "# Show X (everything except datetime and rate) \n",
    "X_axis"
   ]
  },
  {
   "cell_type": "code",
   "execution_count": 15,
   "metadata": {},
   "outputs": [
    {
     "data": {
      "text/plain": [
       "0      5.50\n",
       "1      5.50\n",
       "2      5.50\n",
       "3      5.50\n",
       "4      5.50\n",
       "       ... \n",
       "291    4.50\n",
       "292    4.25\n",
       "293    4.25\n",
       "294    4.25\n",
       "295    4.25\n",
       "Name: rate, Length: 296, dtype: float64"
      ]
     },
     "execution_count": 15,
     "metadata": {},
     "output_type": "execute_result"
    }
   ],
   "source": [
    "# Show rate \n",
    "Y_axis"
   ]
  },
  {
   "cell_type": "markdown",
   "metadata": {},
   "source": [
    "Формируем обучающие и тестовые выборки без перемешивания (без заглядывания в будущее), берём первые `90%` данных"
   ]
  },
  {
   "cell_type": "code",
   "execution_count": 64,
   "metadata": {},
   "outputs": [],
   "source": [
    "X_train, X_test, Y_train, Y_test = model_selection.train_test_split(X_axis, Y_axis, test_size=0.10, shuffle=True)"
   ]
  },
  {
   "cell_type": "code",
   "execution_count": 65,
   "metadata": {},
   "outputs": [],
   "source": [
    "n = 400 # кол-во решающих деревьев"
   ]
  },
  {
   "cell_type": "code",
   "execution_count": 66,
   "metadata": {},
   "outputs": [],
   "source": [
    "xgbr = xgb.XGBRegressor(objective ='reg:squarederror', n_estimators = n)"
   ]
  },
  {
   "cell_type": "code",
   "execution_count": 67,
   "metadata": {},
   "outputs": [
    {
     "data": {
      "text/plain": [
       "XGBRegressor(base_score=None, booster=None, callbacks=None,\n",
       "             colsample_bylevel=None, colsample_bynode=None,\n",
       "             colsample_bytree=None, early_stopping_rounds=None,\n",
       "             enable_categorical=False, eval_metric=None, feature_types=None,\n",
       "             gamma=None, gpu_id=None, grow_policy=None, importance_type=None,\n",
       "             interaction_constraints=None, learning_rate=None, max_bin=None,\n",
       "             max_cat_threshold=None, max_cat_to_onehot=None,\n",
       "             max_delta_step=None, max_depth=None, max_leaves=None,\n",
       "             min_child_weight=None, missing=nan, monotone_constraints=None,\n",
       "             n_estimators=400, n_jobs=None, num_parallel_tree=None,\n",
       "             predictor=None, random_state=None, ...)"
      ]
     },
     "execution_count": 67,
     "metadata": {},
     "output_type": "execute_result"
    }
   ],
   "source": [
    "# Show paramters of estimator\n",
    "xgbr"
   ]
  },
  {
   "cell_type": "code",
   "execution_count": 68,
   "metadata": {},
   "outputs": [
    {
     "data": {
      "text/plain": [
       "XGBRegressor(base_score=None, booster=None, callbacks=None,\n",
       "             colsample_bylevel=None, colsample_bynode=None,\n",
       "             colsample_bytree=None, early_stopping_rounds=None,\n",
       "             enable_categorical=False, eval_metric=None, feature_types=None,\n",
       "             gamma=None, gpu_id=None, grow_policy=None, importance_type=None,\n",
       "             interaction_constraints=None, learning_rate=None, max_bin=None,\n",
       "             max_cat_threshold=None, max_cat_to_onehot=None,\n",
       "             max_delta_step=None, max_depth=None, max_leaves=None,\n",
       "             min_child_weight=None, missing=nan, monotone_constraints=None,\n",
       "             n_estimators=400, n_jobs=None, num_parallel_tree=None,\n",
       "             predictor=None, random_state=None, ...)"
      ]
     },
     "execution_count": 68,
     "metadata": {},
     "output_type": "execute_result"
    }
   ],
   "source": [
    "xgbr.fit(X_train, Y_train)"
   ]
  },
  {
   "cell_type": "code",
   "execution_count": 69,
   "metadata": {},
   "outputs": [
    {
     "name": "stdout",
     "output_type": "stream",
     "text": [
      "Traning score: [ 7.7518854  9.015482  15.001866   7.4967885  7.768169   7.739942\n",
      " 11.003214   7.475725  12.3987465  9.978881   6.9992504  6.0047984\n",
      "  9.980015   6.9831204  6.261277   4.286785   7.546417   7.742857\n",
      "  7.4973297  5.654178  10.964438   7.552326   7.161106  14.136624\n",
      "  5.899761  15.015458   7.9867215  7.5135183  7.249661   9.266148 ]\n"
     ]
    }
   ],
   "source": [
    "score = xgbr.score(X_train, Y_train)\n",
    "print(\"Traning score: {0}\".format(xgbr.predict(X_test)))"
   ]
  },
  {
   "cell_type": "code",
   "execution_count": 72,
   "metadata": {},
   "outputs": [
    {
     "name": "stdout",
     "output_type": "stream",
     "text": [
      "Predicted values (Y values): [ 7.7518854  9.015482  15.001866   7.4967885  7.768169   7.739942\n",
      " 11.003214   7.475725  12.3987465  9.978881   6.9992504  6.0047984\n",
      "  9.980015   6.9831204  6.261277   4.286785   7.546417   7.742857\n",
      "  7.4973297  5.654178  10.964438   7.552326   7.161106  14.136624\n",
      "  5.899761  15.015458   7.9867215  7.5135183  7.249661   9.266148 ]\n",
      "Predicted test values (Y values): [ 7.75  9.   15.    7.5   7.75  7.75 11.    7.25 12.5   9.75  7.    6.\n",
      " 10.    7.25  6.25  4.25  7.5   7.75  7.5   4.5  11.    7.75  7.25 14.\n",
      "  6.   15.    8.    7.5   7.25  9.  ]\n"
     ]
    }
   ],
   "source": [
    "Y_predicted = xgbr.predict(X_test)\n",
    "print(\"Predicted values (Y values): {0}\".format(Y_predicted))\n",
    "print(\"Predicted test values (Y values): {0}\".format(Y_test.values))"
   ]
  },
  {
   "cell_type": "code",
   "execution_count": 74,
   "metadata": {},
   "outputs": [],
   "source": [
    "#for i, el in enumerate(Y_test.values):\n",
    "    #print(estimator.predict(X_test)[i], el)"
   ]
  },
  {
   "cell_type": "code",
   "execution_count": 75,
   "metadata": {},
   "outputs": [
    {
     "data": {
      "text/plain": [
       "Int64Index([229, 159,  50,  26, 244, 184,  92, 213,  64, 146,  11, 279, 134,\n",
       "            257, 272, 294, 220, 241, 222, 289,  90, 246, 254,  56, 283,  52,\n",
       "             35,  23, 211, 164],\n",
       "           dtype='int64')"
      ]
     },
     "execution_count": 75,
     "metadata": {},
     "output_type": "execute_result"
    }
   ],
   "source": [
    "# show keys\n",
    "Y_test.keys()"
   ]
  },
  {
   "cell_type": "code",
   "execution_count": 76,
   "metadata": {},
   "outputs": [
    {
     "data": {
      "text/plain": [
       "229    2019-01-15\n",
       "159    2017-07-25\n",
       "50     2015-02-10\n",
       "26     2014-07-15\n",
       "244    2019-05-15\n",
       "184    2018-01-25\n",
       "92     2016-02-05\n",
       "213    2018-09-05\n",
       "64     2015-06-10\n",
       "146    2017-03-28\n",
       "11     2014-03-25\n",
       "279    2020-03-05\n",
       "134    2016-12-20\n",
       "257    2019-09-05\n",
       "272    2019-12-25\n",
       "294    2020-08-20\n",
       "220    2018-11-01\n",
       "241    2019-04-05\n",
       "222    2018-11-20\n",
       "289    2020-06-25\n",
       "90     2016-01-20\n",
       "246    2019-06-05\n",
       "254    2019-08-15\n",
       "56     2015-04-01\n",
       "283    2020-04-15\n",
       "52     2015-02-25\n",
       "35     2014-09-25\n",
       "23     2014-06-25\n",
       "211    2018-08-15\n",
       "164    2017-08-25\n",
       "Name: date, dtype: object"
      ]
     },
     "execution_count": 76,
     "metadata": {},
     "output_type": "execute_result"
    }
   ],
   "source": [
    "# Select values dates by or access a group of rows and columns by label(s) date\n",
    "dataset.loc[Y_test.keys(),'date']"
   ]
  },
  {
   "cell_type": "code",
   "execution_count": 83,
   "metadata": {},
   "outputs": [],
   "source": [
    "# Select dates columns\n",
    "X_dates = dataset.loc[y_test.keys(),'date'].values"
   ]
  },
  {
   "cell_type": "code",
   "execution_count": 84,
   "metadata": {},
   "outputs": [
    {
     "data": {
      "text/plain": [
       "array(['2019-08-01', '2016-02-20', '2018-08-15', '2017-08-01',\n",
       "       '2014-07-25', '2014-09-25', '2017-12-20', '2015-10-01',\n",
       "       '2014-12-05', '2019-03-28', '2018-08-10', '2015-01-28',\n",
       "       '2018-02-28', '2019-02-20', '2016-12-28', '2019-02-28',\n",
       "       '2018-08-01', '2020-01-15', '2019-07-10', '2017-11-01',\n",
       "       '2016-02-25', '2020-08-05', '2018-07-20', '2016-07-15',\n",
       "       '2019-11-20', '2016-11-15', '2019-01-10', '2017-05-05',\n",
       "       '2020-06-25', '2016-04-20'], dtype=object)"
      ]
     },
     "execution_count": 84,
     "metadata": {},
     "output_type": "execute_result"
    }
   ],
   "source": [
    "# Display rows of dates\n",
    "X_dates"
   ]
  },
  {
   "cell_type": "code",
   "execution_count": 85,
   "metadata": {},
   "outputs": [
    {
     "data": {
      "image/png": "[encoded data removed]",
      "text/plain": [
       "<Figure size 432x288 with 1 Axes>"
      ]
     },
     "metadata": {
      "needs_background": "light"
     },
     "output_type": "display_data"
    }
   ],
   "source": [
    "fig, ax = plt.subplots()\n",
    "pyplot.plot_date(X_dates, Y_test.values)\n",
    "pyplot.plot_date(X_dates, Y_predicted)\n",
    "ax.xaxis.set_tick_params(rotation=90, labelsize=10)\n",
    "pylab.grid(True)"
   ]
  },
  {
   "cell_type": "code",
   "execution_count": 86,
   "metadata": {},
   "outputs": [],
   "source": [
    "res_df = pd.DataFrame()"
   ]
  },
  {
   "cell_type": "code",
   "execution_count": 87,
   "metadata": {},
   "outputs": [],
   "source": [
    "res_df = dataset.loc[Y_test.keys(),('date', 'rate')]"
   ]
  },
  {
   "cell_type": "code",
   "execution_count": 89,
   "metadata": {},
   "outputs": [
    {
     "data": {
      "text/html": [
       "<div>\n",
       "<style scoped>\n",
       "    .dataframe tbody tr th:only-of-type {\n",
       "        vertical-align: middle;\n",
       "    }\n",
       "\n",
       "    .dataframe tbody tr th {\n",
       "        vertical-align: top;\n",
       "    }\n",
       "\n",
       "    .dataframe thead th {\n",
       "        text-align: right;\n",
       "    }\n",
       "</style>\n",
       "<table border=\"1\" class=\"dataframe\">\n",
       "  <thead>\n",
       "    <tr style=\"text-align: right;\">\n",
       "      <th></th>\n",
       "      <th>date</th>\n",
       "      <th>rate</th>\n",
       "    </tr>\n",
       "  </thead>\n",
       "  <tbody>\n",
       "    <tr>\n",
       "      <th>229</th>\n",
       "      <td>2019-01-15</td>\n",
       "      <td>7.75</td>\n",
       "    </tr>\n",
       "    <tr>\n",
       "      <th>159</th>\n",
       "      <td>2017-07-25</td>\n",
       "      <td>9.00</td>\n",
       "    </tr>\n",
       "    <tr>\n",
       "      <th>50</th>\n",
       "      <td>2015-02-10</td>\n",
       "      <td>15.00</td>\n",
       "    </tr>\n",
       "    <tr>\n",
       "      <th>26</th>\n",
       "      <td>2014-07-15</td>\n",
       "      <td>7.50</td>\n",
       "    </tr>\n",
       "    <tr>\n",
       "      <th>244</th>\n",
       "      <td>2019-05-15</td>\n",
       "      <td>7.75</td>\n",
       "    </tr>\n",
       "    <tr>\n",
       "      <th>184</th>\n",
       "      <td>2018-01-25</td>\n",
       "      <td>7.75</td>\n",
       "    </tr>\n",
       "    <tr>\n",
       "      <th>92</th>\n",
       "      <td>2016-02-05</td>\n",
       "      <td>11.00</td>\n",
       "    </tr>\n",
       "    <tr>\n",
       "      <th>213</th>\n",
       "      <td>2018-09-05</td>\n",
       "      <td>7.25</td>\n",
       "    </tr>\n",
       "    <tr>\n",
       "      <th>64</th>\n",
       "      <td>2015-06-10</td>\n",
       "      <td>12.50</td>\n",
       "    </tr>\n",
       "    <tr>\n",
       "      <th>146</th>\n",
       "      <td>2017-03-28</td>\n",
       "      <td>9.75</td>\n",
       "    </tr>\n",
       "    <tr>\n",
       "      <th>11</th>\n",
       "      <td>2014-03-25</td>\n",
       "      <td>7.00</td>\n",
       "    </tr>\n",
       "    <tr>\n",
       "      <th>279</th>\n",
       "      <td>2020-03-05</td>\n",
       "      <td>6.00</td>\n",
       "    </tr>\n",
       "    <tr>\n",
       "      <th>134</th>\n",
       "      <td>2016-12-20</td>\n",
       "      <td>10.00</td>\n",
       "    </tr>\n",
       "    <tr>\n",
       "      <th>257</th>\n",
       "      <td>2019-09-05</td>\n",
       "      <td>7.25</td>\n",
       "    </tr>\n",
       "    <tr>\n",
       "      <th>272</th>\n",
       "      <td>2019-12-25</td>\n",
       "      <td>6.25</td>\n",
       "    </tr>\n",
       "    <tr>\n",
       "      <th>294</th>\n",
       "      <td>2020-08-20</td>\n",
       "      <td>4.25</td>\n",
       "    </tr>\n",
       "    <tr>\n",
       "      <th>220</th>\n",
       "      <td>2018-11-01</td>\n",
       "      <td>7.50</td>\n",
       "    </tr>\n",
       "    <tr>\n",
       "      <th>241</th>\n",
       "      <td>2019-04-05</td>\n",
       "      <td>7.75</td>\n",
       "    </tr>\n",
       "    <tr>\n",
       "      <th>222</th>\n",
       "      <td>2018-11-20</td>\n",
       "      <td>7.50</td>\n",
       "    </tr>\n",
       "    <tr>\n",
       "      <th>289</th>\n",
       "      <td>2020-06-25</td>\n",
       "      <td>4.50</td>\n",
       "    </tr>\n",
       "    <tr>\n",
       "      <th>90</th>\n",
       "      <td>2016-01-20</td>\n",
       "      <td>11.00</td>\n",
       "    </tr>\n",
       "    <tr>\n",
       "      <th>246</th>\n",
       "      <td>2019-06-05</td>\n",
       "      <td>7.75</td>\n",
       "    </tr>\n",
       "    <tr>\n",
       "      <th>254</th>\n",
       "      <td>2019-08-15</td>\n",
       "      <td>7.25</td>\n",
       "    </tr>\n",
       "    <tr>\n",
       "      <th>56</th>\n",
       "      <td>2015-04-01</td>\n",
       "      <td>14.00</td>\n",
       "    </tr>\n",
       "    <tr>\n",
       "      <th>283</th>\n",
       "      <td>2020-04-15</td>\n",
       "      <td>6.00</td>\n",
       "    </tr>\n",
       "    <tr>\n",
       "      <th>52</th>\n",
       "      <td>2015-02-25</td>\n",
       "      <td>15.00</td>\n",
       "    </tr>\n",
       "    <tr>\n",
       "      <th>35</th>\n",
       "      <td>2014-09-25</td>\n",
       "      <td>8.00</td>\n",
       "    </tr>\n",
       "    <tr>\n",
       "      <th>23</th>\n",
       "      <td>2014-06-25</td>\n",
       "      <td>7.50</td>\n",
       "    </tr>\n",
       "    <tr>\n",
       "      <th>211</th>\n",
       "      <td>2018-08-15</td>\n",
       "      <td>7.25</td>\n",
       "    </tr>\n",
       "    <tr>\n",
       "      <th>164</th>\n",
       "      <td>2017-08-25</td>\n",
       "      <td>9.00</td>\n",
       "    </tr>\n",
       "  </tbody>\n",
       "</table>\n",
       "</div>"
      ],
      "text/plain": [
       "           date   rate\n",
       "229  2019-01-15   7.75\n",
       "159  2017-07-25   9.00\n",
       "50   2015-02-10  15.00\n",
       "26   2014-07-15   7.50\n",
       "244  2019-05-15   7.75\n",
       "184  2018-01-25   7.75\n",
       "92   2016-02-05  11.00\n",
       "213  2018-09-05   7.25\n",
       "64   2015-06-10  12.50\n",
       "146  2017-03-28   9.75\n",
       "11   2014-03-25   7.00\n",
       "279  2020-03-05   6.00\n",
       "134  2016-12-20  10.00\n",
       "257  2019-09-05   7.25\n",
       "272  2019-12-25   6.25\n",
       "294  2020-08-20   4.25\n",
       "220  2018-11-01   7.50\n",
       "241  2019-04-05   7.75\n",
       "222  2018-11-20   7.50\n",
       "289  2020-06-25   4.50\n",
       "90   2016-01-20  11.00\n",
       "246  2019-06-05   7.75\n",
       "254  2019-08-15   7.25\n",
       "56   2015-04-01  14.00\n",
       "283  2020-04-15   6.00\n",
       "52   2015-02-25  15.00\n",
       "35   2014-09-25   8.00\n",
       "23   2014-06-25   7.50\n",
       "211  2018-08-15   7.25\n",
       "164  2017-08-25   9.00"
      ]
     },
     "execution_count": 89,
     "metadata": {},
     "output_type": "execute_result"
    }
   ],
   "source": [
    "res_df"
   ]
  },
  {
   "cell_type": "code",
   "execution_count": 93,
   "metadata": {},
   "outputs": [],
   "source": [
    "# Add to dateframe prediction column\n",
    "res_df['prediction'] = Y_predicted"
   ]
  },
  {
   "cell_type": "code",
   "execution_count": 94,
   "metadata": {},
   "outputs": [],
   "source": [
    "# Dispaly data frame\n",
    "#res_df"
   ]
  },
  {
   "cell_type": "code",
   "execution_count": 95,
   "metadata": {},
   "outputs": [],
   "source": [
    "sorted_df = res_df.sort_values(by=['date'])"
   ]
  },
  {
   "cell_type": "code",
   "execution_count": 96,
   "metadata": {},
   "outputs": [
    {
     "data": {
      "text/html": [
       "<div>\n",
       "<style scoped>\n",
       "    .dataframe tbody tr th:only-of-type {\n",
       "        vertical-align: middle;\n",
       "    }\n",
       "\n",
       "    .dataframe tbody tr th {\n",
       "        vertical-align: top;\n",
       "    }\n",
       "\n",
       "    .dataframe thead th {\n",
       "        text-align: right;\n",
       "    }\n",
       "</style>\n",
       "<table border=\"1\" class=\"dataframe\">\n",
       "  <thead>\n",
       "    <tr style=\"text-align: right;\">\n",
       "      <th></th>\n",
       "      <th>date</th>\n",
       "      <th>rate</th>\n",
       "      <th>prediction</th>\n",
       "    </tr>\n",
       "  </thead>\n",
       "  <tbody>\n",
       "    <tr>\n",
       "      <th>11</th>\n",
       "      <td>2014-03-25</td>\n",
       "      <td>7.00</td>\n",
       "      <td>6.999250</td>\n",
       "    </tr>\n",
       "    <tr>\n",
       "      <th>23</th>\n",
       "      <td>2014-06-25</td>\n",
       "      <td>7.50</td>\n",
       "      <td>7.513518</td>\n",
       "    </tr>\n",
       "    <tr>\n",
       "      <th>26</th>\n",
       "      <td>2014-07-15</td>\n",
       "      <td>7.50</td>\n",
       "      <td>7.496789</td>\n",
       "    </tr>\n",
       "    <tr>\n",
       "      <th>35</th>\n",
       "      <td>2014-09-25</td>\n",
       "      <td>8.00</td>\n",
       "      <td>7.986722</td>\n",
       "    </tr>\n",
       "    <tr>\n",
       "      <th>50</th>\n",
       "      <td>2015-02-10</td>\n",
       "      <td>15.00</td>\n",
       "      <td>15.001866</td>\n",
       "    </tr>\n",
       "    <tr>\n",
       "      <th>52</th>\n",
       "      <td>2015-02-25</td>\n",
       "      <td>15.00</td>\n",
       "      <td>15.015458</td>\n",
       "    </tr>\n",
       "    <tr>\n",
       "      <th>56</th>\n",
       "      <td>2015-04-01</td>\n",
       "      <td>14.00</td>\n",
       "      <td>14.136624</td>\n",
       "    </tr>\n",
       "    <tr>\n",
       "      <th>64</th>\n",
       "      <td>2015-06-10</td>\n",
       "      <td>12.50</td>\n",
       "      <td>12.398746</td>\n",
       "    </tr>\n",
       "    <tr>\n",
       "      <th>90</th>\n",
       "      <td>2016-01-20</td>\n",
       "      <td>11.00</td>\n",
       "      <td>10.964438</td>\n",
       "    </tr>\n",
       "    <tr>\n",
       "      <th>92</th>\n",
       "      <td>2016-02-05</td>\n",
       "      <td>11.00</td>\n",
       "      <td>11.003214</td>\n",
       "    </tr>\n",
       "    <tr>\n",
       "      <th>134</th>\n",
       "      <td>2016-12-20</td>\n",
       "      <td>10.00</td>\n",
       "      <td>9.980015</td>\n",
       "    </tr>\n",
       "    <tr>\n",
       "      <th>146</th>\n",
       "      <td>2017-03-28</td>\n",
       "      <td>9.75</td>\n",
       "      <td>9.978881</td>\n",
       "    </tr>\n",
       "    <tr>\n",
       "      <th>159</th>\n",
       "      <td>2017-07-25</td>\n",
       "      <td>9.00</td>\n",
       "      <td>9.015482</td>\n",
       "    </tr>\n",
       "    <tr>\n",
       "      <th>164</th>\n",
       "      <td>2017-08-25</td>\n",
       "      <td>9.00</td>\n",
       "      <td>9.266148</td>\n",
       "    </tr>\n",
       "    <tr>\n",
       "      <th>184</th>\n",
       "      <td>2018-01-25</td>\n",
       "      <td>7.75</td>\n",
       "      <td>7.739942</td>\n",
       "    </tr>\n",
       "    <tr>\n",
       "      <th>211</th>\n",
       "      <td>2018-08-15</td>\n",
       "      <td>7.25</td>\n",
       "      <td>7.249661</td>\n",
       "    </tr>\n",
       "    <tr>\n",
       "      <th>213</th>\n",
       "      <td>2018-09-05</td>\n",
       "      <td>7.25</td>\n",
       "      <td>7.475725</td>\n",
       "    </tr>\n",
       "    <tr>\n",
       "      <th>220</th>\n",
       "      <td>2018-11-01</td>\n",
       "      <td>7.50</td>\n",
       "      <td>7.546417</td>\n",
       "    </tr>\n",
       "    <tr>\n",
       "      <th>222</th>\n",
       "      <td>2018-11-20</td>\n",
       "      <td>7.50</td>\n",
       "      <td>7.497330</td>\n",
       "    </tr>\n",
       "    <tr>\n",
       "      <th>229</th>\n",
       "      <td>2019-01-15</td>\n",
       "      <td>7.75</td>\n",
       "      <td>7.751885</td>\n",
       "    </tr>\n",
       "    <tr>\n",
       "      <th>241</th>\n",
       "      <td>2019-04-05</td>\n",
       "      <td>7.75</td>\n",
       "      <td>7.742857</td>\n",
       "    </tr>\n",
       "    <tr>\n",
       "      <th>244</th>\n",
       "      <td>2019-05-15</td>\n",
       "      <td>7.75</td>\n",
       "      <td>7.768169</td>\n",
       "    </tr>\n",
       "    <tr>\n",
       "      <th>246</th>\n",
       "      <td>2019-06-05</td>\n",
       "      <td>7.75</td>\n",
       "      <td>7.552326</td>\n",
       "    </tr>\n",
       "    <tr>\n",
       "      <th>254</th>\n",
       "      <td>2019-08-15</td>\n",
       "      <td>7.25</td>\n",
       "      <td>7.161106</td>\n",
       "    </tr>\n",
       "    <tr>\n",
       "      <th>257</th>\n",
       "      <td>2019-09-05</td>\n",
       "      <td>7.25</td>\n",
       "      <td>6.983120</td>\n",
       "    </tr>\n",
       "    <tr>\n",
       "      <th>272</th>\n",
       "      <td>2019-12-25</td>\n",
       "      <td>6.25</td>\n",
       "      <td>6.261277</td>\n",
       "    </tr>\n",
       "    <tr>\n",
       "      <th>279</th>\n",
       "      <td>2020-03-05</td>\n",
       "      <td>6.00</td>\n",
       "      <td>6.004798</td>\n",
       "    </tr>\n",
       "    <tr>\n",
       "      <th>283</th>\n",
       "      <td>2020-04-15</td>\n",
       "      <td>6.00</td>\n",
       "      <td>5.899761</td>\n",
       "    </tr>\n",
       "    <tr>\n",
       "      <th>289</th>\n",
       "      <td>2020-06-25</td>\n",
       "      <td>4.50</td>\n",
       "      <td>5.654178</td>\n",
       "    </tr>\n",
       "    <tr>\n",
       "      <th>294</th>\n",
       "      <td>2020-08-20</td>\n",
       "      <td>4.25</td>\n",
       "      <td>4.286785</td>\n",
       "    </tr>\n",
       "  </tbody>\n",
       "</table>\n",
       "</div>"
      ],
      "text/plain": [
       "           date   rate  prediction\n",
       "11   2014-03-25   7.00    6.999250\n",
       "23   2014-06-25   7.50    7.513518\n",
       "26   2014-07-15   7.50    7.496789\n",
       "35   2014-09-25   8.00    7.986722\n",
       "50   2015-02-10  15.00   15.001866\n",
       "52   2015-02-25  15.00   15.015458\n",
       "56   2015-04-01  14.00   14.136624\n",
       "64   2015-06-10  12.50   12.398746\n",
       "90   2016-01-20  11.00   10.964438\n",
       "92   2016-02-05  11.00   11.003214\n",
       "134  2016-12-20  10.00    9.980015\n",
       "146  2017-03-28   9.75    9.978881\n",
       "159  2017-07-25   9.00    9.015482\n",
       "164  2017-08-25   9.00    9.266148\n",
       "184  2018-01-25   7.75    7.739942\n",
       "211  2018-08-15   7.25    7.249661\n",
       "213  2018-09-05   7.25    7.475725\n",
       "220  2018-11-01   7.50    7.546417\n",
       "222  2018-11-20   7.50    7.497330\n",
       "229  2019-01-15   7.75    7.751885\n",
       "241  2019-04-05   7.75    7.742857\n",
       "244  2019-05-15   7.75    7.768169\n",
       "246  2019-06-05   7.75    7.552326\n",
       "254  2019-08-15   7.25    7.161106\n",
       "257  2019-09-05   7.25    6.983120\n",
       "272  2019-12-25   6.25    6.261277\n",
       "279  2020-03-05   6.00    6.004798\n",
       "283  2020-04-15   6.00    5.899761\n",
       "289  2020-06-25   4.50    5.654178\n",
       "294  2020-08-20   4.25    4.286785"
      ]
     },
     "execution_count": 96,
     "metadata": {},
     "output_type": "execute_result"
    }
   ],
   "source": [
    "# Dispaly data frame\n",
    "sorted_df"
   ]
  },
  {
   "cell_type": "code",
   "execution_count": 129,
   "metadata": {},
   "outputs": [
    {
     "data": {
      "image/png": "[encoded data removed]",
      "text/plain": [
       "<Figure size 432x288 with 1 Axes>"
      ]
     },
     "metadata": {
      "needs_background": "light"
     },
     "output_type": "display_data"
    }
   ],
   "source": [
    "fig, ax = plt.subplots()\n",
    "pyplot.plot_date(sorted_df['date'], sorted_df['rate'])\n",
    "pyplot.plot_date(sorted_df['date'], sorted_df['prediction'])\n",
    "ax.xaxis.set_tick_params(rotation=90, labelsize=10)\n",
    "pylab.grid(True)\n",
    "savefig('real and test sorted by date.png', bbox_inches='tight', dpi=600)"
   ]
  },
  {
   "cell_type": "code",
   "execution_count": 155,
   "metadata": {},
   "outputs": [
    {
     "data": {
      "text/plain": [
       "Index(['eur_rub', 'jpy_rub', 'idl_vol', 'bas_dep', 'req_res', 'act_bal',\n",
       "       'org_num', 'rep_vol', 'sal_vol', 'res_gol', 'kop_dep', 'res_res'],\n",
       "      dtype='object')"
      ]
     },
     "execution_count": 155,
     "metadata": {},
     "output_type": "execute_result"
    }
   ],
   "source": [
    "X_axis.columns"
   ]
  },
  {
   "cell_type": "code",
   "execution_count": 161,
   "metadata": {},
   "outputs": [
    {
     "name": "stdout",
     "output_type": "stream",
     "text": [
      "Test sample: [7.75, 9.0, 15.0, 7.5, 7.75, 7.75, 11.0, 7.25, 12.5, 9.75, 7.0, 6.0, 10.0, 7.25, 6.25, 4.25, 7.5, 7.75, 7.5, 4.5, 11.0, 7.75, 7.25, 14.0, 6.0, 15.0, 8.0, 7.5, 7.25, 9.0]\n",
      "Predicted values: [7.75, 9.02, 15.0, 7.5, 7.77, 7.74, 11.0, 7.48, 12.4, 9.98, 7.0, 6.0, 9.98, 6.98, 6.26, 4.29, 7.55, 7.74, 7.5, 5.65, 10.96, 7.55, 7.16, 14.14, 5.9, 15.02, 7.99, 7.51, 7.25, 9.27]\n"
     ]
    }
   ],
   "source": [
    "Y_test_rounded = [round(y, 2) for y in Y_test.values]\n",
    "Y_predicted_rounded = [round(y, 2) for y in Y_predicted]\n",
    "\n",
    "print(\"Test sample: {0}\".format(Y_test_rounded))\n",
    "print(\"Predicted values: {0}\".format(Y_predicted_rounded))"
   ]
  },
  {
   "cell_type": "code",
   "execution_count": 169,
   "metadata": {},
   "outputs": [
    {
     "name": "stdout",
     "output_type": "stream",
     "text": [
      "Mean Squared Error (MSE): 0.05565334829971865\n",
      "Root Mean Squared Error (RMSE): 0.23590961892156634\n"
     ]
    }
   ],
   "source": [
    "#  Mean Squared Error (MSE) or Mean Squared Deviation (MSD) of an estimator measures the average of error squares i.e. \n",
    "# the average squared difference between the estimated values and true value. \n",
    "\n",
    "# Calculate mean Mean Squared Error (MSE)\n",
    "#mean_squared_error = mean_squared_error(Y_test_rounded, Y_predicted_rounded)\n",
    "mean_squared_error = np.square(np.subtract(Y_test_rounded,Y_predicted_rounded)).mean()\n",
    "\n",
    "print(\"Mean Squared Error (MSE): {0}\".format(mean_squared_error))\n",
    "print(\"Root Mean Squared Error (RMSE): {0}\".format(math.sqrt(mean_squared_error)))"
   ]
  },
  {
   "cell_type": "markdown",
   "metadata": {},
   "source": [
    "## Ввести параметры в модель:"
   ]
  },
  {
   "cell_type": "code",
   "execution_count": 69,
   "metadata": {},
   "outputs": [],
   "source": [
    "# x_param = { # (почти) последние данные\n",
    "#     'eur_rub': [90],\n",
    "#     'jpy_rub': [66.0841],\n",
    "#     'idl_vol': [248.20],\n",
    "#     'bas_dep': [67601533.0],\n",
    "#     'req_res': [671.3],\n",
    "#     'act_bal': [2699.5],\n",
    "#     'org_num': [429.0],\n",
    "#     'rep_vol': [100000.0],\n",
    "#     'sal_vol': [127.2],\n",
    "#     'res_gol': [126084.0],\n",
    "#     'kop_dep': [909358.64],\n",
    "#     'res_res': [566012.0]\n",
    "# }"
   ]
  },
  {
   "cell_type": "code",
   "execution_count": 151,
   "metadata": {},
   "outputs": [],
   "source": [
    "x_param = { # выбранные параметры стресс-сценария\n",
    "    'eur_rub': [90],\n",
    "    'jpy_rub': [72],\n",
    "    'idl_vol': [200],\n",
    "    'bas_dep': [50000000.0],\n",
    "    'req_res': [350],\n",
    "    'act_bal': [2500],\n",
    "    'org_num': [400],\n",
    "    'rep_vol': [100000.0],\n",
    "    'sal_vol': [-500],\n",
    "    'res_gol': [80000],\n",
    "    'kop_dep': [300000],\n",
    "    'res_res': [400000]\n",
    "}"
   ]
  },
  {
   "cell_type": "code",
   "execution_count": 147,
   "metadata": {},
   "outputs": [],
   "source": [
    "# x_param = { # выбранные параметры стресс-сценария\n",
    "#     'eur_rub': [87.9030],\n",
    "#     'jpy_rub': [70.3288],\n",
    "#     'idl_vol': [177.42],\n",
    "#     'bas_dep': [68676951.0],\n",
    "#     'req_res': [659.2],\n",
    "#     'act_bal': [2631.700000],\n",
    "#     'org_num': [419.0],\n",
    "#     'rep_vol': [5124.0],\n",
    "#     'sal_vol': [144.9],\n",
    "#     'res_gol': [144322.0],\n",
    "#     'kop_dep': [1817985.90],\n",
    "#     'res_res': [591753.0]\n",
    "# }"
   ]
  },
  {
   "cell_type": "code",
   "execution_count": 152,
   "metadata": {},
   "outputs": [],
   "source": [
    "#test_df = pd.DataFrame.from_dict(x_param,  orient='columns', dtype='float')"
   ]
  },
  {
   "cell_type": "code",
   "execution_count": 153,
   "metadata": {},
   "outputs": [
    {
     "data": {
      "text/html": [
       "<div>\n",
       "<style scoped>\n",
       "    .dataframe tbody tr th:only-of-type {\n",
       "        vertical-align: middle;\n",
       "    }\n",
       "\n",
       "    .dataframe tbody tr th {\n",
       "        vertical-align: top;\n",
       "    }\n",
       "\n",
       "    .dataframe thead th {\n",
       "        text-align: right;\n",
       "    }\n",
       "</style>\n",
       "<table border=\"1\" class=\"dataframe\">\n",
       "  <thead>\n",
       "    <tr style=\"text-align: right;\">\n",
       "      <th></th>\n",
       "      <th>eur_rub</th>\n",
       "      <th>jpy_rub</th>\n",
       "      <th>idl_vol</th>\n",
       "      <th>bas_dep</th>\n",
       "      <th>req_res</th>\n",
       "      <th>act_bal</th>\n",
       "      <th>org_num</th>\n",
       "      <th>rep_vol</th>\n",
       "      <th>sal_vol</th>\n",
       "      <th>res_gol</th>\n",
       "      <th>kop_dep</th>\n",
       "      <th>res_res</th>\n",
       "    </tr>\n",
       "  </thead>\n",
       "  <tbody>\n",
       "    <tr>\n",
       "      <th>0</th>\n",
       "      <td>90.0</td>\n",
       "      <td>72.0</td>\n",
       "      <td>200.0</td>\n",
       "      <td>50000000.0</td>\n",
       "      <td>350.0</td>\n",
       "      <td>2500.0</td>\n",
       "      <td>400.0</td>\n",
       "      <td>100000.0</td>\n",
       "      <td>-500.0</td>\n",
       "      <td>80000.0</td>\n",
       "      <td>300000.0</td>\n",
       "      <td>400000.0</td>\n",
       "    </tr>\n",
       "  </tbody>\n",
       "</table>\n",
       "</div>"
      ],
      "text/plain": [
       "   eur_rub  jpy_rub  idl_vol     bas_dep  req_res  act_bal  org_num   rep_vol  \\\n",
       "0     90.0     72.0    200.0  50000000.0    350.0   2500.0    400.0  100000.0   \n",
       "\n",
       "   sal_vol  res_gol   kop_dep   res_res  \n",
       "0   -500.0  80000.0  300000.0  400000.0  "
      ]
     },
     "execution_count": 153,
     "metadata": {},
     "output_type": "execute_result"
    }
   ],
   "source": [
    "#test_df"
   ]
  },
  {
   "cell_type": "code",
   "execution_count": 154,
   "metadata": {},
   "outputs": [
    {
     "data": {
      "text/plain": [
       "array([9.222826], dtype=float32)"
      ]
     },
     "execution_count": 154,
     "metadata": {},
     "output_type": "execute_result"
    }
   ],
   "source": [
    "#estimator.predict(test_df)"
   ]
  },
  {
   "cell_type": "code",
   "execution_count": null,
   "metadata": {},
   "outputs": [],
   "source": []
  },
  {
   "cell_type": "markdown",
   "metadata": {},
   "source": [
    "1. Хвост-собака\n",
    "2. Без ручного управления ставка 7-7.50\n",
    "3. Рассмотреть глобально негативный сценарий - обрушение курса валют, уменьшение золотого запаса, отрицательное сальдо баланса, высокий корпоративный долг, падение депозитов"
   ]
  },
  {
   "cell_type": "markdown",
   "metadata": {},
   "source": [
    "1. Временные ряды (многомерный случай) - рассмотреть задачу forecast'а вместо задачи регрессии\n",
    "2. Resuduals - остатки на нормальное распределение, тесты"
   ]
  },
  {
   "cell_type": "code",
   "execution_count": 123,
   "metadata": {},
   "outputs": [],
   "source": [
    "residuals = Y_test - Y_predicted"
   ]
  },
  {
   "cell_type": "code",
   "execution_count": 124,
   "metadata": {},
   "outputs": [
    {
     "data": {
      "text/plain": [
       "0.03837575912475586"
      ]
     },
     "execution_count": 124,
     "metadata": {},
     "output_type": "execute_result"
    }
   ],
   "source": [
    "residuals.mean()"
   ]
  },
  {
   "cell_type": "code",
   "execution_count": 125,
   "metadata": {},
   "outputs": [
    {
     "data": {
      "text/plain": [
       "0.04227992126218072"
      ]
     },
     "execution_count": 125,
     "metadata": {},
     "output_type": "execute_result"
    }
   ],
   "source": [
    "residuals.var()"
   ]
  },
  {
   "cell_type": "code",
   "execution_count": null,
   "metadata": {},
   "outputs": [],
   "source": []
  },
  {
   "cell_type": "code",
   "execution_count": null,
   "metadata": {},
   "outputs": [],
   "source": []
  }
 ],
 "metadata": {
  "kernelspec": {
   "display_name": "Python 3 (ipykernel)",
   "language": "python",
   "name": "python3"
  },
  "language_info": {
   "codemirror_mode": {
    "name": "ipython",
    "version": 3
   },
   "file_extension": ".py",
   "mimetype": "text/x-python",
   "name": "python",
   "nbconvert_exporter": "python",
   "pygments_lexer": "ipython3",
   "version": "3.9.12"
  }
 },
 "nbformat": 4,
 "nbformat_minor": 2
}
