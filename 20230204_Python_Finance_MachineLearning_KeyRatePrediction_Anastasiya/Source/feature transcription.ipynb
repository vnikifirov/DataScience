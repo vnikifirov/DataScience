{
 "cells": [
  {
   "cell_type": "code",
   "execution_count": 2,
   "metadata": {},
   "outputs": [],
   "source": [
    "feature_dict = {\n",
    "    'eur_rub': 'Курс евро',\n",
    "    'jpy_rub': 'Курс иены',\n",
    "    'idl_vol': 'Объём внутридневных кредитов в млрд. рублей',\n",
    "    'bas_dep': 'Обычные депозиты',\n",
    "    'req_res': 'Обязательные резервы на счетах для их учёта',\n",
    "    'act_bal': 'Фактические среднедневные остатки средств на корр. счетах',\n",
    "    'org_num': 'Количество действующих кредитных организаций',\n",
    "    'rep_vol': 'Объём операций РЕПО в в млн. рублей',\n",
    "    'sal_vol': 'Сальдо операций Банка России по предоставлению/абсорбированию ликвидности в млрд. рублей',\n",
    "    'res_gol': 'Монетарное золоте в млн. долларов США',\n",
    "    'kop_dep': 'Депозиты КО на счетах БР в млн. рублей',\n",
    "    'res_res': 'Международные резервы в млн. долларов США'\n",
    "}"
   ]
  },
  {
   "cell_type": "code",
   "execution_count": null,
   "metadata": {},
   "outputs": [],
   "source": []
  }
 ],
 "metadata": {
  "kernelspec": {
   "display_name": "Python 3",
   "language": "python",
   "name": "python3"
  },
  "language_info": {
   "codemirror_mode": {
    "name": "ipython",
    "version": 3
   },
   "file_extension": ".py",
   "mimetype": "text/x-python",
   "name": "python",
   "nbconvert_exporter": "python",
   "pygments_lexer": "ipython3",
   "version": "3.7.9"
  }
 },
 "nbformat": 4,
 "nbformat_minor": 2
}
