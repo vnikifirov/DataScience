{
 "cells": [
  {
   "cell_type": "code",
   "execution_count": 13,
   "metadata": {},
   "outputs": [],
   "source": [
    "import re\n",
    "\n",
    "\n",
    "def yaml_parse_structure(lines: [str], self_indent: int = 0) \\\n",
    "        -> (object, [str]):\n",
    "    group = []\n",
    "    while True:\n",
    "        if len(lines) is 0:\n",
    "            return group, []\n",
    "        line_indent = re.match(r' *-? ?', lines[0])\n",
    "        if line_indent.end() < self_indent:\n",
    "            return group, lines\n",
    "        elif line_indent.end() > self_indent:\n",
    "            to_append, next_lines = yaml_parse_structure(\n",
    "                lines, line_indent.end())\n",
    "            group.append(to_append)\n",
    "            lines = next_lines\n",
    "        else:\n",
    "            catch_minus = re.search(r'[^ ]+.*$', lines[0])\n",
    "            group.append(catch_minus[0])\n",
    "            lines = lines[1:]\n"
   ]
  },
  {
   "cell_type": "code",
   "execution_count": 14,
   "metadata": {},
   "outputs": [],
   "source": [
    "def yaml_parse_ignore_minus(structure: list) -> object:\n",
    "    res = {}\n",
    "\n",
    "    def remove_minus(string: str) -> str:\n",
    "        return string[re.match(r'-? ?', string).end():]\n",
    "\n",
    "    while True:\n",
    "        if len(structure) is 0:\n",
    "            return res\n",
    "\n",
    "        line = remove_minus(structure[0])\n",
    "\n",
    "        if line[-1] is ':':\n",
    "            res[line[:-1]] = yaml_parse_meaning(structure[1])\n",
    "            structure = structure[2:]\n",
    "        else:\n",
    "            [key, val] = line.split(':')\n",
    "            val = re.search(r'[^ ]+.*', val)[0]\n",
    "            match_number = re.match(r'^-?(\\d+\\.?\\d*|\\d*\\.?\\d+)$', val)\n",
    "            if match_number is not None:\n",
    "                match_int = re.match(r'^-?\\d+$', val)\n",
    "                if match_int is not None:\n",
    "                    val = int(val)\n",
    "                else:\n",
    "                    val = float(val)\n",
    "            res[key] = val\n",
    "            structure = structure[1:]"
   ]
  },
  {
   "cell_type": "code",
   "execution_count": 15,
   "metadata": {},
   "outputs": [],
   "source": [
    "def yaml_parse_list(structure: list) -> list:\n",
    "    delimiters = []\n",
    "    for pos in enumerate(structure):\n",
    "        if pos[1][0] is '-':\n",
    "            delimiters.append(pos[0])\n",
    "    intervals = [[x] for x in delimiters]\n",
    "    for i in range(1, len(delimiters)):\n",
    "        intervals[i - 1].append(delimiters[i])\n",
    "    intervals[-1].append(-1)\n",
    "    return [yaml_parse_ignore_minus(structure[a:b])\n",
    "            for [a, b] in intervals]"
   ]
  },
  {
   "cell_type": "code",
   "execution_count": 16,
   "metadata": {},
   "outputs": [],
   "source": [
    "def yaml_parse_meaning(structure: list) -> object:\n",
    "    if len(structure) is 0:\n",
    "        return None\n",
    "\n",
    "    if structure[0][0] is '-':\n",
    "        return yaml_parse_list(structure)\n",
    "    else:\n",
    "        return yaml_parse_ignore_minus(structure)\n",
    "\n",
    "\n",
    "def yaml_parse(lines: [str], self_indent: int = 0) -> object:\n",
    "    return yaml_parse_meaning(\n",
    "        yaml_parse_structure(lines, self_indent)[0])"
   ]
  },
  {
   "cell_type": "code",
   "execution_count": 17,
   "metadata": {},
   "outputs": [],
   "source": [
    "def json_stringify(obj: object) -> str:\n",
    "    if isinstance(obj, int):\n",
    "        return '{}'.format(obj)\n",
    "    elif isinstance(obj, float):\n",
    "        return '{}'.format(obj)\n",
    "    elif isinstance(obj, str):\n",
    "        return '\"{}\"'.format(obj)\n",
    "    elif isinstance(obj, list):\n",
    "        return '[{}]'.format(', '.join([\n",
    "            json_stringify(elem) for elem in obj]))\n",
    "    elif isinstance(obj, dict):\n",
    "        return '{{{}}}'.format(', '.join(['{}: {}'.format(\n",
    "            json_stringify(key), json_stringify(val))\n",
    "            for key, val in obj.items()]))\n"
   ]
  },
  {
   "cell_type": "code",
   "execution_count": 24,
   "metadata": {},
   "outputs": [
    {
     "name": "stdout",
     "output_type": "stream",
     "text": [
      "['Monday:\\n', '- time:\\n', '    begin:\\n', '      hour: 8\\n', '      minute: 20\\n', '    end:\\n', '      hour: 9\\n', '      minute: 50\\n', '  location:\\n', '    room: 3207 ауд.\\n', '    pavilion: ул. Ломоносова, д. 9, лит. Е\\n', '  lesson: Иностранный язык (Прак)\\n', '  week: every\\n', '\\n', '- time:\\n', '    begin:\\n', '      hour: 11\\n', '      minute: 40\\n', '    end:\\n', '      hour: 13\\n', '      minute: 10\\n', '  location:\\n', '    room: 2438 ауд.\\n', '    pavilion: ул. Ломоносова, д. 9, лит. Е\\n', '  lesson: Физика (Прак)\\n', '  teacher: Чистяков Виктор Владимирович\\n', '  week: even\\n', '\\n', '- time:\\n', '    begin:\\n', '      hour: 11\\n', '      minute: 40\\n', '    end:\\n', '      hour: 13\\n', '      minute: 10\\n', '  location:\\n', '    room: 2407 ауд.\\n', '    pavilion: ул. Ломоносова, д. 9, лит. Е\\n', '  lesson: Физика (Лаб)\\n', '  teacher: Чистяков Виктор Владимирович\\n', '  week: even\\n']\n"
     ]
    }
   ],
   "source": [
    "with open('input.yaml', 'r', encoding='utf-8') as file:\n",
    "    input_lines = file.readlines()\n",
    "\n",
    "print (input_lines)    "
   ]
  },
  {
   "cell_type": "code",
   "execution_count": 26,
   "metadata": {},
   "outputs": [
    {
     "name": "stdout",
     "output_type": "stream",
     "text": [
      "<filter object at 0x11166a588>\n"
     ]
    }
   ],
   "source": [
    "input_lines = filter(lambda x: re.match('^\\s*$', x) is None,\n",
    "                     input_lines)\n",
    "\n",
    "print (input_lines) "
   ]
  },
  {
   "cell_type": "code",
   "execution_count": 27,
   "metadata": {},
   "outputs": [
    {
     "name": "stdout",
     "output_type": "stream",
     "text": [
      "['Monday:', '- time:', '    begin:', '      hour: 8', '      minute: 20', '    end:', '      hour: 9', '      minute: 50', '  location:', '    room: 3207 ауд.', '    pavilion: ул. Ломоносова, д. 9, лит. Е', '  lesson: Иностранный язык (Прак)', '  week: every', '- time:', '    begin:', '      hour: 11', '      minute: 40', '    end:', '      hour: 13', '      minute: 10', '  location:', '    room: 2438 ауд.', '    pavilion: ул. Ломоносова, д. 9, лит. Е', '  lesson: Физика (Прак)', '  teacher: Чистяков Виктор Владимирович', '  week: even', '- time:', '    begin:', '      hour: 11', '      minute: 40', '    end:', '      hour: 13', '      minute: 10', '  location:', '    room: 2407 ауд.', '    pavilion: ул. Ломоносова, д. 9, лит. Е', '  lesson: Физика (Лаб)', '  teacher: Чистяков Виктор Владимирович', '  week: even']\n"
     ]
    }
   ],
   "source": [
    "input_lines = [x[:re.search(r'\\s*$', x).start()] for x in input_lines]\n",
    "\n",
    "print (input_lines) "
   ]
  },
  {
   "cell_type": "code",
   "execution_count": 28,
   "metadata": {},
   "outputs": [
    {
     "name": "stdout",
     "output_type": "stream",
     "text": [
      "['Monday:', '- time:', '    begin:', '      hour: 8', '      minute: 20', '    end:', '      hour: 9', '      minute: 50', '  location:', '    room: 3207 ауд.', '    pavilion: ул. Ломоносова, д. 9, лит. Е', '  lesson: Иностранный язык (Прак)', '  week: every', '- time:', '    begin:', '      hour: 11', '      minute: 40', '    end:', '      hour: 13', '      minute: 10', '  location:', '    room: 2438 ауд.', '    pavilion: ул. Ломоносова, д. 9, лит. Е', '  lesson: Физика (Прак)', '  teacher: Чистяков Виктор Владимирович', '  week: even', '- time:', '    begin:', '      hour: 11', '      minute: 40', '    end:', '      hour: 13', '      minute: 10', '  location:', '    room: 2407 ауд.', '    pavilion: ул. Ломоносова, д. 9, лит. Е', '  lesson: Физика (Лаб)', '  teacher: Чистяков Виктор Владимирович', '  week: even']\n"
     ]
    }
   ],
   "source": [
    "with open('output.json', 'w', encoding='utf-8') as file:\n",
    "    file.write(json_stringify(yaml_parse(input_lines)))\n",
    "    \n",
    "print (input_lines)  "
   ]
  },
  {
   "cell_type": "code",
   "execution_count": 30,
   "metadata": {},
   "outputs": [
    {
     "name": "stdout",
     "output_type": "stream",
     "text": [
      "['Monday:', '- time:', '    begin:', '      hour: 8', '      minute: 20', '    end:', '      hour: 9', '      minute: 50', '  location:', '    room: 3207 ауд.', '    pavilion: ул. Ломоносова, д. 9, лит. Е', '  lesson: Иностранный язык (Прак)', '  week: every', '- time:', '    begin:', '      hour: 11', '      minute: 40', '    end:', '      hour: 13', '      minute: 10', '  location:', '    room: 2438 ауд.', '    pavilion: ул. Ломоносова, д. 9, лит. Е', '  lesson: Физика (Прак)', '  teacher: Чистяков Виктор Владимирович', '  week: even', '- time:', '    begin:', '      hour: 11', '      minute: 40', '    end:', '      hour: 13', '      minute: 10', '  location:', '    room: 2407 ауд.', '    pavilion: ул. Ломоносова, д. 9, лит. Е', '  lesson: Физика (Лаб)', '  teacher: Чистяков Виктор Владимирович', '  week: even']\n"
     ]
    }
   ],
   "source": [
    "with open('output.json', 'w', encoding='utf-8') as file:\n",
    "    file.write(json_stringify(yaml_parse(input_lines)))\n"
   ]
  },
  {
   "cell_type": "code",
   "execution_count": null,
   "metadata": {},
   "outputs": [],
   "source": []
  }
 ],
 "metadata": {
  "kernelspec": {
   "display_name": "Python 3",
   "language": "python",
   "name": "python3"
  },
  "language_info": {
   "codemirror_mode": {
    "name": "ipython",
    "version": 3
   },
   "file_extension": ".py",
   "mimetype": "text/x-python",
   "name": "python",
   "nbconvert_exporter": "python",
   "pygments_lexer": "ipython3",
   "version": "3.7.0"
  }
 },
 "nbformat": 4,
 "nbformat_minor": 2
}
