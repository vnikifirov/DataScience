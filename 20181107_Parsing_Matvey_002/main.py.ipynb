{
 "cells": [
  {
   "cell_type": "code",
   "execution_count": null,
   "metadata": {},
   "outputs": [],
   "source": [
    "from IPython.core.display import HTML\n",
    "HTML(\"\"\"\n",
    "    <style>\n",
    "\n",
    "        div.cell { /* Tunes the space between cells */\n",
    "            margin-top:1em;\n",
    "            margin-bottom:1em;\n",
    "        }\n",
    "\n",
    "        div.text_cell_render h1 { /* Main titles bigger, centered */\n",
    "            font-size: 2.2em;\n",
    "            line-height:1.4em;\n",
    "            text-align:center;\n",
    "        }\n",
    "\n",
    "        div.text_cell_render h2 { /*  Parts names nearer from text */\n",
    "            margin-bottom: -0.4em;\n",
    "        }\n",
    "\n",
    "\n",
    "        div.text_cell_render { /* Customize text cells */\n",
    "            font-family: 'Times New Roman';\n",
    "            font-size:1.5em;\n",
    "            line-height:1.4em;\n",
    "            padding-left:3em;\n",
    "            padding-right:3em;\n",
    "        }\n",
    "    </style>\n",
    "\"\"\")\n",
    "\n",
    "\n",
    "# Ducmentation - https://stackoverflow.com/questions/34303422/how-to-change-the-font-size-and-color-of-markdown-cell-in-ipython-py-2-7-noteb"
   ]
  },
  {
   "cell_type": "markdown",
   "metadata": {},
   "source": [
    "# Python - File parsing \n",
    "\n",
    "    Написать бы программу которая осущевллы бы прасин и конверцию исходного формата в новый\n",
    "\n",
    "### Rules \n",
    "    \n",
    "    Нельзя использоват готовые выражения, кроме re (регулярных вырожений - Python) "
   ]
  },
  {
   "cell_type": "markdown",
   "metadata": {},
   "source": [
    "## Что такое регулярные выражения и как их использовать?\n",
    "\n",
    "    В Python для работы с регулярными выражениями есть модуль re. Для использования его нужно импортировать:"
   ]
  },
  {
   "cell_type": "code",
   "execution_count": null,
   "metadata": {},
   "outputs": [],
   "source": [
    "import re"
   ]
  },
  {
   "cell_type": "markdown",
   "metadata": {},
   "source": [
    "## Чаще всего регулярные выражения используются для:\n",
    "\n",
    "       - поиска в строке;\n",
    "       - разбиения строки на подстроки;\n",
    "       - замены части строки.\n",
    "   \n",
    "    Посмотрим на методы, которые предоставляет библиотека re для этих задач. Вот те кторые мы используем:\n",
    "\n",
    "       - re.match()\n",
    "       - re.search()\n",
    "       - re.split()\n",
    "       - re.compile()\n"
   ]
  },
  {
   "cell_type": "markdown",
   "metadata": {},
   "source": [
    "## Рассмотрим их подробнее те которые используются в этой программе.\n",
    "\n",
    "    1. re.match(pattern, string): - Этот метод ищет по заданному шаблону в начале строки.\n",
    "    2. e.search(pattern, string): - Этот метод похож на match(), но он ищет не только в начале строки.\n",
    "    3. re.split(pattern, string, [maxsplit=0]): - Этот метод разделяет строку по заданному шаблону.\n",
    "    "
   ]
  },
  {
   "cell_type": "markdown",
   "metadata": {},
   "source": [
    "    До сих пор мы рассматривали поиск определенной последовательности символов. Но что, если у нас нет определенного шаблона,\n",
    "    и нам надо вернуть набор символов из строки, отвечающий определенным правилам? Такая задача часто стоит при извлечении\n",
    "    информации из строк. Это можно сделать, написав выражение с использованием специальных символов. Вот наиболее часто \n",
    "    используемые из них:\n",
    "\n",
    "#### Часто используемые оператор в регулярных вырожения\t\n",
    "    Описание\n",
    "    .\t         - Один любой символ, кроме новой строки \\n.\n",
    "    ?\t         - 0 или 1 вхождение шаблона слева\n",
    "    +\t         - 1 и более вхождений шаблона слева\n",
    "    *\t         - 0 и более вхождений шаблона слева\n",
    "    \\w\t        - Любая цифра или буква (\\W — все, кроме буквы или цифры)\n",
    "    \\d\t        - Любая цифра [0-9] (\\D — все, кроме цифры)\n",
    "    \\s\t        - Любой пробельный символ (\\S — любой непробельный символ)\n",
    "    \\b\t        - Граница слова\n",
    "    [..]          - Один из символов в скобках ([^..] — любой символ, кроме тех, что в скобках)\n",
    "    \\\t         - Экранирование специальных символов (\\. означает точку или \\+ — знак «плюс»)\n",
    "    ^ и $         - Начало и конец строки соответственно\n",
    "    {n,m}         - От n до m вхождений ({,m} — от 0 до m)\n",
    "    a|b\t       - Соответствует a или b\n",
    "    ()\t        - Группирует выражение и возвращает найденный текст\n",
    "    \\t, \\n, \\r\t- Символ табуляции, новой строки и возврата каретки соответственно"
   ]
  },
  {
   "cell_type": "markdown",
   "metadata": {},
   "source": [
    "## Функция в python\n",
    "    Это объект, принимающий аргументы и возвращающий значение. Обычно функция определяется с помощью инструкции def."
   ]
  },
  {
   "cell_type": "code",
   "execution_count": null,
   "metadata": {},
   "outputs": [],
   "source": [
    "## Определим функцию:\n",
    "def yaml_parse_structure(lines: [str], self_indent: int = 0) # # self_indent - необязательный аргумент\n",
    "        -> (object, [str]): # Указываем, что функция возвращает\n",
    "        \n",
    "    # Создаем пустой массив \n",
    "    group = [] \n",
    "    while True: # Бесконечный ∞ цикл \n",
    "        if len(lines) is 0: # len( str ) - Length of string in line (Python)\n",
    "            # Инструкция return говорит, что нужно вернуть значение.\n",
    "            # Возможно даже, что одна функция возвращает несколько значений только с одним возвратом (return statment): \n",
    "            # Возвращаемые значения -> group, []\n",
    "            return group, []\n",
    "        \n",
    "         # Этот метод ищет по заданному шаблону в начале строки.\n",
    "        line_indent = re.match(r' *-? ?', lines[0])\n",
    "        \n",
    "        if line_indent.end() < self_indent: \n",
    "            return group, lines  \n",
    "        \n",
    "        \n",
    "        elif line_indent.end() > self_indent:\n",
    "            to_append, next_lines = yaml_parse_structure(\n",
    "                lines, line_indent.end())\n",
    "            group.append(to_append) # Добавляет элемент в массив group\n",
    "            lines = next_lines\n",
    "        else:\n",
    "            catch_minus = re.search(r'[^ ]+.*$', lines[0]) # Этот метод похож на match(), но он ищет не только в начале строки.\n",
    "            group.append(catch_minus[0])\n",
    "            \n",
    "            # Python's slice нотация\n",
    "            # - lines[start:end] # items start through end-1\n",
    "            lines = lines[1:]\n"
   ]
  },
  {
   "cell_type": "markdown",
   "metadata": {},
   "source": [
    "###### Функция конвертирует объект и возвращает JSON"
   ]
  },
  {
   "cell_type": "code",
   "execution_count": null,
   "metadata": {},
   "outputs": [],
   "source": [
    "def yaml_parse_ignore_minus(structure: list) -> object:\n",
    "    # Создаем путое множество - Ø \n",
    "    res = {}\n",
    "\n",
    "    # Функция удаляет отрицательный знак в строке\n",
    "    def remove_minus(string: str) -> str:\n",
    "        return string[re.match(r'-? ?', str(string)).end():]\n",
    "\n",
    "    # Создаем бесконечный цикл\n",
    "    # В программировании бесконечным циклом называется цикл, \n",
    "    # написанный таким образом, что условие выхода из него никогда не выполняется.\n",
    "    while True:\n",
    "        \n",
    "        # Выходим из цикла, если list путой\n",
    "        if len(structure) is 0:\n",
    "            return res\n",
    "\n",
    "        # Удаляем отрицательный знак из структуры, [0] первый элемент в списке\n",
    "        line = remove_minus(structure[0])\n",
    "        \n",
    "        # Если предыдущие значение, это разделитель : -> (JSON [{ key : value }])\n",
    "        # То возвращаем значение \n",
    "        if line[-1] is ':':\n",
    "            res[line[:-1]] = yaml_parse_meaning(structure[1])\n",
    "            structure = structure[2:]\n",
    "        else:\n",
    "            # Этот метод разделяет строку по заданному шаблону.\n",
    "            # { key : value }\n",
    "            [key, val] = line.split(':') \n",
    "            \n",
    "            # Вытаскиваем значение значение\n",
    "            val = re.search(r'[^ ]+.*', val)[0]\n",
    "            # Поиск чисел в значении\n",
    "            match_number = re.match(r'^-?(\\d+\\.?\\d*|\\d*\\.?\\d+)$', val)\n",
    "            # Если нашли  \n",
    "            if match_number is not None:\n",
    "                # Поиск целочисленного числа\n",
    "                match_int = re.match(r'^-?\\d+$', val)\n",
    "                # Если нашли \n",
    "                if match_int is not None:\n",
    "                    # Кастим в целое число\n",
    "                    val = int(val)\n",
    "                else:\n",
    "                    # Кастим в дробное число \n",
    "                    val = float(val)\n",
    "                    \n",
    "            # Сохранить значение\n",
    "            res[key] = val\n",
    "            \n",
    "            structure = structure[1:]"
   ]
  },
  {
   "cell_type": "markdown",
   "metadata": {},
   "source": [
    "#### Парсим лист "
   ]
  },
  {
   "cell_type": "code",
   "execution_count": null,
   "metadata": {},
   "outputs": [],
   "source": [
    "def yaml_parse_list(structure: list) -> list:\n",
    "    # Создаем переменную для разделителей \n",
    "    delimiters = []\n",
    "\n",
    "    for pos in enumerate(structure):\n",
    "        if pos[1][0] is '-':\n",
    "            delimiters.append(pos[0])\n",
    "    intervals = [[x] for x in delimiters]\n",
    "    for i in range(1, len(delimiters)):\n",
    "        intervals[i - 1].append(delimiters[i])\n",
    "    intervals[-1].append(-1)\n",
    "    \n",
    "    #  Делаем парсинг игнорируя отрицателный знак \n",
    "    return [yaml_parse_ignore_minus(structure[a:b])\n",
    "        for [a, b] in intervals]"
   ]
  },
  {
   "cell_type": "markdown",
   "metadata": {},
   "source": [
    "#### Парсим значение "
   ]
  },
  {
   "cell_type": "code",
   "execution_count": null,
   "metadata": {},
   "outputs": [],
   "source": [
    "def yaml_parse_meaning(structure: list) -> object:\n",
    "    if len(structure) is 0:\n",
    "        return None\n",
    "\n",
    "    if structure[0][0] is '-':\n",
    "        return yaml_parse_list(structure)\n",
    "    else:\n",
    "        return yaml_parse_ignore_minus(structure)\n",
    "\n",
    "\n",
    "def yaml_parse(lines: [str], self_indent: int = 0) -> object:\n",
    "    return yaml_parse_meaning(\n",
    "        yaml_parse_structure(lines, self_indent)[0])"
   ]
  },
  {
   "cell_type": "markdown",
   "metadata": {},
   "source": [
    "###### Функция конвертирует объект и возвращает JSON"
   ]
  },
  {
   "cell_type": "code",
   "execution_count": null,
   "metadata": {},
   "outputs": [],
   "source": [
    "def json_stringify(obj: object) -> str:\n",
    "    if isinstance(obj, int):\n",
    "        return '{}'.format(obj)\n",
    "    elif isinstance(obj, float):\n",
    "        return '{}'.format(obj)\n",
    "    elif isinstance(obj, str):\n",
    "        return '\"{}\"'.format(obj)\n",
    "    elif isinstance(obj, list):\n",
    "        return '[{}]'.format(', '.join([\n",
    "            json_stringify(elem) for elem in obj]))\n",
    "    elif isinstance(obj, dict):\n",
    "        return '{{{}}}'.format(', '.join(['{}: {}'.format(\n",
    "            json_stringify(key), json_stringify(val))\n",
    "            for key, val in obj.items()]))\n"
   ]
  },
  {
   "cell_type": "markdown",
   "metadata": {},
   "source": [
    "###### Считываем данные "
   ]
  },
  {
   "cell_type": "code",
   "execution_count": null,
   "metadata": {},
   "outputs": [],
   "source": [
    "# Отрываем фойл и считываем данные \n",
    "# r flag - разрешение на считывание\n",
    "# encoding - задаем кодировку\n",
    "with open('input.yaml', 'r', encoding='utf-8') as file:\n",
    "    # считываем файл \n",
    "    input_lines = file.readlines()\n",
    "\n",
    "# Проверяем, что фаил был считан \n",
    "print (input_lines)    "
   ]
  },
  {
   "cell_type": "code",
   "execution_count": null,
   "metadata": {},
   "outputs": [],
   "source": [
    "input_lines = filter(lambda x: re.match('^\\s*$', x) is None,\n",
    "                     input_lines)"
   ]
  },
  {
   "cell_type": "code",
   "execution_count": null,
   "metadata": {},
   "outputs": [],
   "source": [
    "input_lines = [x[:re.search(r'\\s*$', x).start()] for x in input_lines]"
   ]
  },
  {
   "cell_type": "markdown",
   "metadata": {},
   "source": [
    "###### Записываем результат данные"
   ]
  },
  {
   "cell_type": "code",
   "execution_count": null,
   "metadata": {},
   "outputs": [],
   "source": [
    "with open('output.json', 'w', encoding='utf-8') as file:\n",
    "    file.write(json_stringify(yaml_parse(input_lines)))"
   ]
  },
  {
   "cell_type": "markdown",
   "metadata": {},
   "source": [
    "## Заключение\n",
    "\n",
    "       Мы узнали, что такое регулярные выражения и как их использовать, на примере библиотеки re в Python. Кроме того, мы использовали регулярные выражения в парсинге\n",
    "   \n",
    "   \n",
    "  "
   ]
  },
  {
   "cell_type": "code",
   "execution_count": null,
   "metadata": {},
   "outputs": [],
   "source": []
  }
 ],
 "metadata": {
  "kernelspec": {
   "display_name": "Python 3",
   "language": "python",
   "name": "python3"
  },
  "language_info": {
   "codemirror_mode": {
    "name": "ipython",
    "version": 3
   },
   "file_extension": ".py",
   "mimetype": "text/x-python",
   "name": "python",
   "nbconvert_exporter": "python",
   "pygments_lexer": "ipython3",
   "version": "3.7.0"
  }
 },
 "nbformat": 4,
 "nbformat_minor": 2
}
