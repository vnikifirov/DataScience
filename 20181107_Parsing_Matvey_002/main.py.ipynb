{
 "cells": [
  {
   "cell_type": "code",
   "execution_count": 1,
   "metadata": {},
   "outputs": [],
   "source": [
    "import re\n",
    "\n",
    "\n",
    "def yaml_parse_structure(lines: [str], self_indent: int = 0) \\\n",
    "        -> (object, [str]):\n",
    "    group = []\n",
    "    while True:\n",
    "        if len(lines) is 0:\n",
    "            return group, []\n",
    "        line_indent = re.match(r' *-? ?', lines[0])\n",
    "        if line_indent.end() < self_indent:\n",
    "            return group, lines\n",
    "        elif line_indent.end() > self_indent:\n",
    "            to_append, next_lines = yaml_parse_structure(\n",
    "                lines, line_indent.end())\n",
    "            group.append(to_append)\n",
    "            lines = next_lines\n",
    "        else:\n",
    "            catch_minus = re.search(r'[^ ]+.*$', lines[0])\n",
    "            group.append(catch_minus[0])\n",
    "            lines = lines[1:]\n"
   ]
  },
  {
   "cell_type": "code",
   "execution_count": 2,
   "metadata": {},
   "outputs": [],
   "source": [
    "def yaml_parse_ignore_minus(structure: list) -> object:\n",
    "    res = {}\n",
    "\n",
    "    def remove_minus(string: str) -> str:\n",
    "        return string[re.match(r'-? ?', str(string)).end():]\n",
    "\n",
    "    while True:\n",
    "        if len(structure) is 0:\n",
    "            return res\n",
    "\n",
    "        line = remove_minus(structure[0])\n",
    "\n",
    "        if line[-1] is ':':\n",
    "            res[line[:-1]] = yaml_parse_meaning(structure[1])\n",
    "            structure = structure[2:]\n",
    "        else:\n",
    "            [key, val] = line.split(':')\n",
    "            val = re.search(r'[^ ]+.*', val)[0]\n",
    "            match_number = re.match(r'^-?(\\d+\\.?\\d*|\\d*\\.?\\d+)$', val)\n",
    "            if match_number is not None:\n",
    "                match_int = re.match(r'^-?\\d+$', val)\n",
    "                if match_int is not None:\n",
    "                    val = int(val)\n",
    "                else:\n",
    "                    val = float(val)\n",
    "            res[key] = val\n",
    "            structure = structure[1:]"
   ]
  },
  {
   "cell_type": "code",
   "execution_count": 3,
   "metadata": {},
   "outputs": [],
   "source": [
    "def yaml_parse_list(structure: list) -> list:\n",
    "    delimiters = []\n",
    "    for pos in enumerate(structure):\n",
    "        if pos[1][0] is '-':\n",
    "            delimiters.append(pos[0])\n",
    "    intervals = [[x] for x in delimiters]\n",
    "    for i in range(1, len(delimiters)):\n",
    "        intervals[i - 1].append(delimiters[i])\n",
    "    intervals[-1].append(-1)\n",
    "    return [yaml_parse_ignore_minus(structure[a:b])\n",
    "            for [a, b] in intervals]"
   ]
  },
  {
   "cell_type": "code",
   "execution_count": 4,
   "metadata": {},
   "outputs": [],
   "source": [
    "def yaml_parse_meaning(structure: list) -> object:\n",
    "    if len(structure) is 0:\n",
    "        return None\n",
    "\n",
    "    if structure[0][0] is '-':\n",
    "        return yaml_parse_list(structure)\n",
    "    else:\n",
    "        return yaml_parse_ignore_minus(structure)\n",
    "\n",
    "\n",
    "def yaml_parse(lines: [str], self_indent: int = 0) -> object:\n",
    "    return yaml_parse_meaning(\n",
    "        yaml_parse_structure(lines, self_indent)[0])"
   ]
  },
  {
   "cell_type": "code",
   "execution_count": 5,
   "metadata": {},
   "outputs": [],
   "source": [
    "def json_stringify(obj: object) -> str:\n",
    "    if isinstance(obj, int):\n",
    "        return '{}'.format(obj)\n",
    "    elif isinstance(obj, float):\n",
    "        return '{}'.format(obj)\n",
    "    elif isinstance(obj, str):\n",
    "        return '\"{}\"'.format(obj)\n",
    "    elif isinstance(obj, list):\n",
    "        return '[{}]'.format(', '.join([\n",
    "            json_stringify(elem) for elem in obj]))\n",
    "    elif isinstance(obj, dict):\n",
    "        return '{{{}}}'.format(', '.join(['{}: {}'.format(\n",
    "            json_stringify(key), json_stringify(val))\n",
    "            for key, val in obj.items()]))\n"
   ]
  },
  {
   "cell_type": "code",
   "execution_count": 6,
   "metadata": {},
   "outputs": [
    {
     "name": "stdout",
     "output_type": "stream",
     "text": [
      "['Fiday:\\n', '- time:\\n', '    begin:\\n', '      hour: 11\\n', '      minute: 40\\n', '    end:\\n', '      hour: 13\\n', '      minute: 10\\n', '  location:\\n', '    room: 302 ауд.\\n', '    pavilion: Кронверкский пр., д.49, лит.А\\n', '  lesson: ИСТОРИЯ (ЛЕК)\\n', '  teacher: Солоусов Александр Сергеевич\\n', '  week: every\\n', '\\n', '- time:\\n', '    begin:\\n', '      hour: 10\\n', '      minute: 00\\n', '    end:\\n', '      hour: 11\\n', '      minute: 30\\n', '  location:\\n', '    room: 314 ауд.\\n', '    pavilion: Кронверкский пр., д.49, лит.А\\n', '  lesson: ИСТОРИЯ (ПРАК)\\n', '  teacher: Солоусов Александр Сергеевич\\n', '  week: even\\n', '\\n', '- time:\\n', '    begin:\\n', '      hour: 13\\n', '      minute: 30\\n', '    end:\\n', '      hour: 16\\n', '      minute: 50\\n', '  location:\\n', '    room: 2407 ауд.\\n', '    pavilion: Кронверкский пр., д.49, лит.А\\n', '  lesson: ОПД\\n', '  teacher: Николаев Владимир Вячеславович\\n', '  week: every\\n', '\\n', '- time:\\n', '    begin:\\n', '      hour: 13\\n', '      minute: 30\\n', '    end:\\n', '      hour: 16\\n', '      minute: 50\\n', '  location:\\n', '    room: 2407 ауд.\\n', '    pavilion: Кронверкский пр., д.49, лит.А\\n', '  lesson: Программирование\\n', '  teacher: Письмак Алексей Евгеньевич\\n', '  week: even']\n"
     ]
    }
   ],
   "source": [
    "with open('input.yaml', 'r', encoding='utf-8') as file:\n",
    "    input_lines = file.readlines()\n",
    "\n",
    "print (input_lines)    "
   ]
  },
  {
   "cell_type": "code",
   "execution_count": 7,
   "metadata": {},
   "outputs": [
    {
     "name": "stdout",
     "output_type": "stream",
     "text": [
      "<filter object at 0x1057e86d8>\n"
     ]
    }
   ],
   "source": [
    "input_lines = filter(lambda x: re.match('^\\s*$', x) is None,\n",
    "                     input_lines)\n",
    "\n",
    "print (input_lines) "
   ]
  },
  {
   "cell_type": "code",
   "execution_count": 8,
   "metadata": {},
   "outputs": [
    {
     "name": "stdout",
     "output_type": "stream",
     "text": [
      "['Fiday:', '- time:', '    begin:', '      hour: 11', '      minute: 40', '    end:', '      hour: 13', '      minute: 10', '  location:', '    room: 302 ауд.', '    pavilion: Кронверкский пр., д.49, лит.А', '  lesson: ИСТОРИЯ (ЛЕК)', '  teacher: Солоусов Александр Сергеевич', '  week: every', '- time:', '    begin:', '      hour: 10', '      minute: 00', '    end:', '      hour: 11', '      minute: 30', '  location:', '    room: 314 ауд.', '    pavilion: Кронверкский пр., д.49, лит.А', '  lesson: ИСТОРИЯ (ПРАК)', '  teacher: Солоусов Александр Сергеевич', '  week: even', '- time:', '    begin:', '      hour: 13', '      minute: 30', '    end:', '      hour: 16', '      minute: 50', '  location:', '    room: 2407 ауд.', '    pavilion: Кронверкский пр., д.49, лит.А', '  lesson: ОПД', '  teacher: Николаев Владимир Вячеславович', '  week: every', '- time:', '    begin:', '      hour: 13', '      minute: 30', '    end:', '      hour: 16', '      minute: 50', '  location:', '    room: 2407 ауд.', '    pavilion: Кронверкский пр., д.49, лит.А', '  lesson: Программирование', '  teacher: Письмак Алексей Евгеньевич', '  week: even']\n"
     ]
    }
   ],
   "source": [
    "input_lines = [x[:re.search(r'\\s*$', x).start()] for x in input_lines]\n",
    "\n",
    "print (input_lines) "
   ]
  },
  {
   "cell_type": "code",
   "execution_count": 9,
   "metadata": {},
   "outputs": [
    {
     "name": "stdout",
     "output_type": "stream",
     "text": [
      "['Fiday:', '- time:', '    begin:', '      hour: 11', '      minute: 40', '    end:', '      hour: 13', '      minute: 10', '  location:', '    room: 302 ауд.', '    pavilion: Кронверкский пр., д.49, лит.А', '  lesson: ИСТОРИЯ (ЛЕК)', '  teacher: Солоусов Александр Сергеевич', '  week: every', '- time:', '    begin:', '      hour: 10', '      minute: 00', '    end:', '      hour: 11', '      minute: 30', '  location:', '    room: 314 ауд.', '    pavilion: Кронверкский пр., д.49, лит.А', '  lesson: ИСТОРИЯ (ПРАК)', '  teacher: Солоусов Александр Сергеевич', '  week: even', '- time:', '    begin:', '      hour: 13', '      minute: 30', '    end:', '      hour: 16', '      minute: 50', '  location:', '    room: 2407 ауд.', '    pavilion: Кронверкский пр., д.49, лит.А', '  lesson: ОПД', '  teacher: Николаев Владимир Вячеславович', '  week: every', '- time:', '    begin:', '      hour: 13', '      minute: 30', '    end:', '      hour: 16', '      minute: 50', '  location:', '    room: 2407 ауд.', '    pavilion: Кронверкский пр., д.49, лит.А', '  lesson: Программирование', '  teacher: Письмак Алексей Евгеньевич', '  week: even']\n"
     ]
    }
   ],
   "source": [
    "with open('output.json', 'w', encoding='utf-8') as file:\n",
    "    file.write(json_stringify(yaml_parse(input_lines)))\n",
    "    \n",
    "print (input_lines)  "
   ]
  },
  {
   "cell_type": "code",
   "execution_count": 10,
   "metadata": {},
   "outputs": [],
   "source": [
    "with open('output.json', 'w', encoding='utf-8') as file:\n",
    "    file.write(json_stringify(yaml_parse(input_lines)))\n"
   ]
  }
 ],
 "metadata": {
  "kernelspec": {
   "display_name": "Python 3",
   "language": "python",
   "name": "python3"
  },
  "language_info": {
   "codemirror_mode": {
    "name": "ipython",
    "version": 3
   },
   "file_extension": ".py",
   "mimetype": "text/x-python",
   "name": "python",
   "nbconvert_exporter": "python",
   "pygments_lexer": "ipython3",
   "version": "3.7.0"
  }
 },
 "nbformat": 4,
 "nbformat_minor": 2
}
