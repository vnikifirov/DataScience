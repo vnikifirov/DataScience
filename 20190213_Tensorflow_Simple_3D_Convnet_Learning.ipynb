{
 "cells": [
  {
   "cell_type": "code",
   "execution_count": 35,
   "metadata": {},
   "outputs": [],
   "source": [
    "import numpy as np # Import numpy lib\n",
    "from numpy import convolve # \n",
    "import matplotlib.pyplot as plt"
   ]
  },
  {
   "cell_type": "code",
   "execution_count": 36,
   "metadata": {},
   "outputs": [],
   "source": [
    "plt.style.use('ggplot')"
   ]
  },
  {
   "cell_type": "code",
   "execution_count": 37,
   "metadata": {},
   "outputs": [],
   "source": [
    "def moving_average(y, period):\n",
    "    buffer = []\n",
    "    for i in range(period, len(y)):\n",
    "        buffer.append(y[i - period : i].mean())\n",
    "    return buffer"
   ]
  },
  {
   "cell_type": "code",
   "execution_count": 38,
   "metadata": {},
   "outputs": [],
   "source": [
    "def auto_regressive(y, p, d, q, future_count):\n",
    "    \"\"\"\n",
    "    p = the order (number of time lags)\n",
    "    d = degree of differencing\n",
    "    q = the order of the moving-average\n",
    "    \"\"\"\n",
    "    buffer = np.copy(y).tolist()\n",
    "    for i in range(future_count):\n",
    "        ma = moving_average(np.array(buffer[-p:]), q)\n",
    "        forecast = buffer[-1]\n",
    "        for n in range(0, len(ma), d):\n",
    "            forecast -= buffer[-1 - n] - ma[n]\n",
    "        buffer.append(forecast)\n",
    "    return buffer"
   ]
  },
  {
   "cell_type": "code",
   "execution_count": 39,
   "metadata": {},
   "outputs": [],
   "source": [
    "y=[60, 2, 0, 0, 1, 1, 0, -1, -2, 0, -2, 6, 0, 2, 0, 4, 0, 1, 3, 2, 1, 2, 1, 0, 2, 2, 0, 1, 0, 1, 3, -1, 0, 2, 2, 1, 3, 2, 4, 2, 3, 0, 0, 2, 2, 0, 3, 1, 0, 2]\n",
    "x=[1549984749, 1549984751, 1549984755, 1549984761, 1549984768, 1549984769, 1549984770, 1549984774, 1549984780, 1549984783, 1549984786, 1549984787, 1549984788,\n",
    "   1549984794, 1549984797, 1549984855, 1549984923, 1549984930, 1549984955, 1549985006, 1549985008, 1549985027, 1549985086, 1549985091, 1549985101, 1549985115,\n",
    "   1549985116, 1549985118, 1549985130, 1549985130, 1549985139, 1549985141, 1549985146, 1549985154, 1549985178, 1549985192, 1549985203, 1549985217, 1549985245,\n",
    "   1549985288, 1549985311, 1549985316, 1549985425, 1549985447, 1549985460, 1549985463, 1549985489, 1549985561, 1549985595, 1549985610]"
   ]
  },
  {
   "cell_type": "code",
   "execution_count": 40,
   "metadata": {},
   "outputs": [
    {
     "name": "stdout",
     "output_type": "stream",
     "text": [
      "50\n",
      "50\n"
     ]
    }
   ],
   "source": [
    "x=np.array(x)\n",
    "print(np.size(x))\n",
    "y=np.array(y)\n",
    "print(np.size(y))"
   ]
  },
  {
   "cell_type": "code",
   "execution_count": 34,
   "metadata": {},
   "outputs": [
    {
     "data": {
      "image/png": "[encoded data removed]",
      "text/plain": [
       "<Figure size 432x288 with 1 Axes>"
      ]
     },
     "metadata": {},
     "output_type": "display_data"
    }
   ],
   "source": [
    "future_count = 15\n",
    "predicted_15 = auto_regressive(y,20,1,2,future_count)\n",
    "\n",
    "# Wrong ...\n",
    "#plt.plot(x[len(x) - len(predicted_15):], predicted_15)\n",
    "\n",
    "# Right ...\n",
    "plt.plot(x[len(x) - len(predicted_15):], predicted_15[len(x):])\n",
    "\n",
    "\n",
    "plt.plot(x, y, 'o-')\n",
    "plt.show()"
   ]
  },
  {
   "cell_type": "code",
   "execution_count": null,
   "metadata": {},
   "outputs": [],
   "source": []
  }
 ],
 "metadata": {
  "kernelspec": {
   "display_name": "Python 3",
   "language": "python",
   "name": "python3"
  },
  "language_info": {
   "codemirror_mode": {
    "name": "ipython",
    "version": 3
   },
   "file_extension": ".py",
   "mimetype": "text/x-python",
   "name": "python",
   "nbconvert_exporter": "python",
   "pygments_lexer": "ipython3",
   "version": "3.7.0"
  }
 },
 "nbformat": 4,
 "nbformat_minor": 2
}
