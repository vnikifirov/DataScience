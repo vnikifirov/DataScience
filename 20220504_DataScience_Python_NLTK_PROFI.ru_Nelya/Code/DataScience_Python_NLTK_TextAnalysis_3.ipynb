{
 "cells": [
  {
   "cell_type": "code",
   "execution_count": 1,
   "id": "3a2ed502",
   "metadata": {},
   "outputs": [],
   "source": [
    "# Task description:\n",
    "#У меня есть 985 комментариев о работе компании и пожеланиях клиентов. \n",
    "#1. Нужно получить коэффициенты сентиментов по каждому, то есть насколько комментарий \n",
    "#положительный или отрицательный. \n",
    "#2. Также желательно определить, к каким отделам относятся \n",
    "#эти комментарии, чтобы понять, кому их надо брать в работу. \n",
    "#3. Задача максимум: ещё и связать \n",
    "#коэффициенты сентиментов с количественными оценками, которые клиенты выставляли по \n",
    "#отдельным критериям работы компании. Вы такое умеете делать?"
   ]
  },
  {
   "cell_type": "code",
   "execution_count": 2,
   "id": "138c662c",
   "metadata": {},
   "outputs": [
    {
     "name": "stderr",
     "output_type": "stream",
     "text": [
      "[nltk_data] Downloading package punkt to /Users/lucifer/nltk_data...\n",
      "[nltk_data]   Package punkt is already up-to-date!\n",
      "[nltk_data] Downloading package stopwords to\n",
      "[nltk_data]     /Users/lucifer/nltk_data...\n",
      "[nltk_data]   Package stopwords is already up-to-date!\n"
     ]
    },
    {
     "data": {
      "text/plain": [
       "True"
      ]
     },
     "execution_count": 2,
     "metadata": {},
     "output_type": "execute_result"
    }
   ],
   "source": [
    "import pandas as pd #импорт модуля пандас под именем пд, необходимого для работы с таблицей из экселя\n",
    "from string import punctuation #импорт объекта для удаления знаков препинания между словами\n",
    "import os.path\n",
    "\n",
    "import nltk #импорт пакета nltk для NLP\n",
    "from nltk.sentiment import SentimentIntensityAnalyzer\n",
    "from nltk.corpus import stopwords #импорт объекта для удаления лишних (стоп) слов из модуля corpus из пакета nltk для NLP\n",
    "\n",
    "nltk.download([\n",
    "    \"punkt\",\n",
    "    \"stopwords\",\n",
    "])"
   ]
  },
  {
   "cell_type": "code",
   "execution_count": null,
   "id": "be3b94e9",
   "metadata": {},
   "outputs": [],
   "source": [
    "def setup(path: str):# = os.path.abspath(input(\"Enter path of your Excel document, or press enter and path to folder will be default: \"))):\n",
    "    try:\n",
    "        survey = pd.read_excel(path,usecols='A,J') #выбираем только колонки A, J для идентификации и анализа\n",
    "    except OSError:\n",
    "        if not os.path.isfile(path):\n",
    "            print(\"Excel document isn't exist and path will be by default\")\n",
    "            raise\n",
    "            pd.read_excel(\"/Users/lucifer/Desktop/20220504_DataScience_Python_NLTK_PROFI.ru_Nelya/Excel2.xlsx\", usecols='A,J') #выбираем только колонки A, J для идентификации и анализа\n",
    "            \n",
    "setup(\"/Users/lucifer/Desktop/20220504_DataScience_Python_NLTK_PROFI.ru_Nelya/Excel2.xlsx\")"
   ]
  },
  {
   "cell_type": "code",
   "execution_count": null,
   "id": "1b234a04",
   "metadata": {},
   "outputs": [],
   "source": [
    "def GetDataFromDocByKey(document: list, key: str) -> list:\n",
    "    if len(document) == 0:\n",
    "        raise ValueError('Argument empty', type(document))\n",
    "        \n",
    "    if len(key) == 0:\n",
    "        raise ValueError('Argument empty', type(key))  \n",
    "    \n",
    "    return document[key].astype(str).tolist()\n",
    "\n",
    "comments = GetDataFromDocByKey(survey, \"Комментарий клиента\") #создаем массив только с комментариями\n",
    "clientsIds = GetDataFromDocByKey(survey, \"Id шаблона\") #создаем массив только с id клиента "
   ]
  },
  {
   "cell_type": "code",
   "execution_count": null,
   "id": "30458741",
   "metadata": {},
   "outputs": [],
   "source": [
    "# TODO: It isn't best code it should be ovewrited to follow SOLID principles  \n",
    "def matchrus(text: [], alphabet = set('абвгдеёжзийклмнопрстуфхцчшщъыьэюя')) -> bool:\n",
    "    return not alphabet.isdisjoint(text.lower()) #функция для проверки, если комментарий написан на русском\n",
    "\n",
    "# TODO: It isn't best code it should be ovewrited to follow SOLID principles \n",
    "def matcheng(text: [], alphabet = set('abcdefghijklmnopqrstuvwxyz')) -> bool:\n",
    "    return not alphabet.isdisjoint(text.lower()) #функция для проверки, если комментарий написан на английском"
   ]
  },
  {
   "cell_type": "code",
   "execution_count": null,
   "id": "9e631237",
   "metadata": {},
   "outputs": [],
   "source": [
    "def GetCommentsRusOrEng(clientsIds: [], comments: list) -> []:\n",
    "    if len(clientsIds) == 0:\n",
    "        raise ValueError('Argument empty', type(clientsIds))\n",
    "        \n",
    "    if len(comments) == 0:\n",
    "        raise ValueError('Argument empty', type(comments))\n",
    "    \n",
    "    russiancomments = [] # создаем три пустых массива, чтобы в них записать, соответственно, комментарии на русском\n",
    "    englishcomments = [] # на английском\n",
    "    nulcomments = [] # и \"нулевые\"\n",
    "    \n",
    "    for i in range(0, len(clientsIds)): #цикл, который исполняется для каждого id клиента\n",
    "        array = [] #пустой массив\n",
    "        array.append(i) #в него записываем порядковый номер строки, начиная с 0\n",
    "        array.append(clientsIds[i]) #следом в него записываем id клиента\n",
    "        array.append(comments[i]) #и его комментарий\n",
    "\n",
    "        # TODO: I think it's possible to move the check to a separate method\n",
    "        if matchrus(comments[i]):\n",
    "            russiancomments.append(array) #если комментарий на русском, записываем в массив для руссских комментариев\n",
    "        elif matcheng(comments[i]):\n",
    "            englishcomments.append(array) #аналогично для английского\n",
    "        else:\n",
    "            nulcomments.append(array) #оставшиеся попадают в \"нулевой\" массив\n",
    "            \n",
    "    return russiancomments, englishcomments, nulcomments"
   ]
  },
  {
   "cell_type": "code",
   "execution_count": null,
   "id": "4f63ac14",
   "metadata": {},
   "outputs": [],
   "source": [
    "russiancomments, englishcomments, nulcomments = GetCommentsRusOrEng(clientsIds, comments)"
   ]
  },
  {
   "cell_type": "code",
   "execution_count": null,
   "id": "daef9bbe",
   "metadata": {},
   "outputs": [],
   "source": [
    "def PrintComments(comments: [], lang: str) -> None:\n",
    "    if len(comments) == 0:\n",
    "        raise ValueError('Argument empty', type(comments))\n",
    "        \n",
    "    if len(lang) == 0:\n",
    "        raise ValueError('Argument empty', type(lang))\n",
    "    \n",
    "    print(f\"{lang} comments\", comments)\n",
    "\n",
    "#получился массив в массиве на самом деле, но для простоты понимания ниже буду называть массивы в массиве строчками\n",
    "PrintComments(russiancomments, \"Russia\")\n",
    "PrintComments(englishcomments, \"English\")\n",
    "PrintComments(nulcomments, \"Nul\")\n",
    "\n",
    "print(\"Amount of Russia comments: \", len(russiancomments)) #печатаем количество строк в каждом массиве\n",
    "print(\"Amount of English comments: \", len(englishcomments)) #так их можно сложить и ерепроверить, что сумма сошлась верно\n",
    "print(\"Amount of Nul comments: \", len(nulcomments)) #можно это и булевой функцией записать коротко, но пока нужна наглядность для корректировки"
   ]
  },
  {
   "cell_type": "code",
   "execution_count": null,
   "id": "5b4168bc",
   "metadata": {},
   "outputs": [],
   "source": [
    "def GetStopwords(lang: str) -> []:\n",
    "    if len(lang) == 0:\n",
    "        raise ValueError('Argument empty', type(lang))\n",
    "    \n",
    "    return stopwords.words(lang)\n",
    "\n",
    "russian_stopwords = GetStopwords(\"russian\")\n",
    "print(russian_stopwords) #печатаем русские лишние (стоп) слова из пакета nltk, чтобы понимать, что будем дальше выкидывать\n",
    "\n",
    "english_stopwords = GetStopwords(\"english\")\n",
    "print(english_stopwords) #для английского отдельно"
   ]
  },
  {
   "cell_type": "code",
   "execution_count": null,
   "id": "d9164679",
   "metadata": {},
   "outputs": [],
   "source": [
    "def GetTokensOrWords(comments, stopwords = None, punctuation = None) -> []:\n",
    "    if len(comments) == 0:\n",
    "        raise ValueError('Argument empty', type(comments))\n",
    "    \n",
    "    if stopwords is not None and len(stopwords) == 0:\n",
    "        raise ValueError('Argument empty', type(stopwords))\n",
    "        \n",
    "    if punctuation is not None and len(punctuation) == 0:\n",
    "        raise ValueError('Argument empty', type(punctuation))\n",
    "    \n",
    "    tokens = []\n",
    "    \n",
    "    for i in range(0, len(comments)): #делим тексты на токены, то есть на отдельные слова, выкидывая знаки препинания и стоп-слова\n",
    "        text = comments[i][2]\n",
    "        tokens = nltk.word_tokenize(text.lower())\n",
    "        if stopwords is not None and punctuation is not None:\n",
    "            tokens = [token for token in tokens if token not in stopwords and token not in punctuation]\n",
    "    return tokens"
   ]
  },
  {
   "cell_type": "code",
   "execution_count": null,
   "id": "5278eccf",
   "metadata": {},
   "outputs": [],
   "source": [
    "russianWords = GetTokensOrWords(russiancomments, russian_stopwords, punctuation)\n",
    "englishWords = GetTokensOrWords(englishcomments, english_stopwords, punctuation)\n",
    "nulWords = GetTokensOrWords(nulcomments)"
   ]
  },
  {
   "cell_type": "code",
   "execution_count": null,
   "id": "1ca053e8",
   "metadata": {},
   "outputs": [],
   "source": [
    "print (\"Russian words\", russianWords)\n",
    "print (\"English words\", englishWords)\n",
    "print (\"Nul words\", nulWords)"
   ]
  },
  {
   "cell_type": "code",
   "execution_count": null,
   "id": "013c51ba",
   "metadata": {},
   "outputs": [],
   "source": [
    "def comment_is_positive(comment: str) -> bool:\n",
    "    if len(comment) == 0:\n",
    "        raise ValueError('Argument empty', type(comment))\n",
    "        \n",
    "    \"\"\"True if comment has positive compound sentiment, False otherwise.\"\"\"\n",
    "    return sia.polarity_scores(comment)[\"compound\"] > 0\n",
    "\n",
    "def PrintSentiments(sentimentAnalyzer, comments: []) -> None:\n",
    "    if sentimentAnalyzer is None:\n",
    "        raise ValueError('Argument empty', type(sentimentAnalyzer))\n",
    "    \n",
    "    if len(comments) == 0:\n",
    "        raise ValueError('Argument empty', type(comments))\n",
    "    \n",
    "    for kv_comment in comments:\n",
    "        value = kv_comment[2]\n",
    "        print(\">\", comment_is_positive(value), value)\n",
    "\n",
    "def SentimentAnalyses(comments: [], lang: str = \"Eng\") -> None:\n",
    "    if len(comments) == 0:\n",
    "        raise ValueError('Argument empty', type(comments))\n",
    "    \n",
    "    if len(lang) == 0:\n",
    "        raise ValueError('Argument empty', type(lang))\n",
    "    \n",
    "    #if lang is \"Russian\" or lang is \"Rus\":\n",
    "    if lang == \"English\" or lang == \"Eng\":\n",
    "        sia = SentimentIntensityAnalyzer()\n",
    "        PrintSentiments(sia, comments)"
   ]
  },
  {
   "cell_type": "code",
   "execution_count": null,
   "id": "e548962f",
   "metadata": {},
   "outputs": [],
   "source": [
    "SentimentAnalyses(englishcomments)"
   ]
  },
  {
   "cell_type": "code",
   "execution_count": null,
   "id": "e16de665",
   "metadata": {},
   "outputs": [],
   "source": []
  },
  {
   "cell_type": "code",
   "execution_count": null,
   "id": "2e724b8e",
   "metadata": {},
   "outputs": [],
   "source": []
  },
  {
   "cell_type": "code",
   "execution_count": null,
   "id": "e307ae50",
   "metadata": {},
   "outputs": [],
   "source": []
  }
 ],
 "metadata": {
  "kernelspec": {
   "display_name": "Python 3 (ipykernel)",
   "language": "python",
   "name": "python3"
  },
  "language_info": {
   "codemirror_mode": {
    "name": "ipython",
    "version": 3
   },
   "file_extension": ".py",
   "mimetype": "text/x-python",
   "name": "python",
   "nbconvert_exporter": "python",
   "pygments_lexer": "ipython3",
   "version": "3.9.7"
  }
 },
 "nbformat": 4,
 "nbformat_minor": 5
}
