{
 "cells": [
  {
   "cell_type": "code",
   "execution_count": 1,
   "id": "66bda90f",
   "metadata": {},
   "outputs": [],
   "source": [
    "# Visualization \n",
    "import numpy as np # Import numpy lib\n",
    "from numpy import convolve # \n",
    "import matplotlib.pyplot as plt\n",
    "\n",
    "class VizualizationBankService:\n",
    "# Draw chart bar\n",
    "    def Bar(self, deposit, income, total, currency):\n",
    "        fig = plt.figure()\n",
    "        ax = fig.add_axes([0,0,1,1])\n",
    "        x_axis = ['deposit', 'Income', 'Total']\n",
    "        y_axis = [deposit, income, total]\n",
    "        ax.bar(x_axis, y_axis, color = ['b', 'r', 'y'])\n",
    "        plt.show()\n",
    "        \n",
    "        print (\"Deposit \", currency, deposit)\n",
    "        print (\"Income \", currency, income)\n",
    "        print (\"Total \", currency, total)"
   ]
  },
  {
   "cell_type": "code",
   "execution_count": 2,
   "id": "301752a0",
   "metadata": {},
   "outputs": [],
   "source": [
    "# Calulcationg bank rate services \n",
    "class BankRateService:\n",
    "     # Calculate income from bank if you put money on the percent\n",
    "    def CalculateIncome_SimplePercent(self, deposite, percent, year_periode):\n",
    "        if deposite == 0 or percent == 0 == 0 or year_periode == 0:\n",
    "            return 0\n",
    "        \n",
    "        # deposite -You deposite\n",
    "        # percent - Percent of bank\n",
    "        # year_periode is Days you put your money, or periode of deposite\n",
    "        # Return your income from bank\n",
    "        return deposite * (1 + percent / 100 * year_periode)"
   ]
  },
  {
   "cell_type": "code",
   "execution_count": 3,
   "id": "7be73a66",
   "metadata": {},
   "outputs": [],
   "source": [
    "# Calulcationg bank rate services \n",
    "class BankCurrencyService:\n",
    "     # Calculate income from bank if you put money on the percent\n",
    "    def ConvertRublesToUSD(self, rubles, echangeRate = 60):\n",
    "        if rubles == 0 or echangeRate == 0:\n",
    "            return 0\n",
    "        \n",
    "        # deposite -You deposite\n",
    "        # percent - Percent of bank\n",
    "        # year_periode is Days you put your money, or periode of deposite\n",
    "        # Return your income from bank\n",
    "        return rubles / echangeRate"
   ]
  },
  {
   "cell_type": "code",
   "execution_count": 11,
   "id": "6b493944",
   "metadata": {},
   "outputs": [
    {
     "data": {
      "image/png": "[encoded data removed]",
      "text/plain": [
       "<Figure size 432x288 with 1 Axes>"
      ]
     },
     "metadata": {
      "needs_background": "light"
     },
     "output_type": "display_data"
    },
    {
     "name": "stdout",
     "output_type": "stream",
     "text": [
      "Deposit  USD 10000.0\n",
      "Income  USD 790\n",
      "Total  USD 10790\n"
     ]
    },
    {
     "data": {
      "image/png": "[encoded data removed]",
      "text/plain": [
       "<Figure size 432x288 with 1 Axes>"
      ]
     },
     "metadata": {
      "needs_background": "light"
     },
     "output_type": "display_data"
    },
    {
     "name": "stdout",
     "output_type": "stream",
     "text": [
      "Deposit  Rubles 600000\n",
      "Income  Rubles 47400\n",
      "Total  Rubles 647400\n"
     ]
    }
   ],
   "source": [
    "# Neron or services\n",
    "bankService = BankRateService()\n",
    "\n",
    "bank_rate = 7.90\n",
    "deposit_rubles = 600000 # 6 times \n",
    "deposit_years = 1\n",
    "\n",
    "converter = BankCurrencyService()\n",
    "deposit_usd = converter.ConvertRublesToUSD(deposit_rubles)\n",
    "\n",
    "total_usd = round(bankService.CalculateIncome_SimplePercent(deposit_usd, bank_rate, deposit_years))\n",
    "total_rub = round(bankService.CalculateIncome_SimplePercent(deposit_rubles, bank_rate, deposit_years))\n",
    "\n",
    "income_usd = round(total_usd - deposit_usd)\n",
    "income_rubles = round(total_rub - deposit_rubles)\n",
    "\n",
    "vizualizationService = VizualizationBankService()\n",
    "\n",
    "# Visualization\n",
    "vizualizationService.Bar(deposit_usd, income_usd, total_usd, \"USD\")\n",
    "\n",
    "# Visualization\n",
    "vizualizationService.Bar(deposit_rubles, income_rubles, total_rub, \"Rubles\")"
   ]
  },
  {
   "cell_type": "code",
   "execution_count": null,
   "id": "12828b0a",
   "metadata": {},
   "outputs": [],
   "source": []
  }
 ],
 "metadata": {
  "kernelspec": {
   "display_name": "Python 3 (ipykernel)",
   "language": "python",
   "name": "python3"
  },
  "language_info": {
   "codemirror_mode": {
    "name": "ipython",
    "version": 3
   },
   "file_extension": ".py",
   "mimetype": "text/x-python",
   "name": "python",
   "nbconvert_exporter": "python",
   "pygments_lexer": "ipython3",
   "version": "3.9.12"
  }
 },
 "nbformat": 4,
 "nbformat_minor": 5
}
